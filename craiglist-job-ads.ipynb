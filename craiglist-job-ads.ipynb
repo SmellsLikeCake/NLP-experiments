{
 "cells": [
  {
   "cell_type": "code",
   "execution_count": 51,
   "metadata": {},
   "outputs": [],
   "source": [
    "import numpy as np\n",
    "import pandas as pd\n",
    "import matplotlib.pyplot as plt\n",
    "%matplotlib inline\n",
    "import seaborn as sns\n",
    "\n",
    "from collections import Counter\n",
    "import time\n",
    "\n",
    "import spacy\n",
    "from sklearn.model_selection import train_test_split\n",
    "from sklearn.feature_extraction.text import TfidfVectorizer\n",
    "from sklearn.decomposition import TruncatedSVD\n",
    "from sklearn.pipeline import make_pipeline\n",
    "from sklearn.preprocessing import Normalizer\n",
    "from sklearn.svm import SVC\n",
    "from sklearn.linear_model import LogisticRegression\n",
    "from sklearn.model_selection import cross_val_score\n",
    "from sklearn.model_selection import GridSearchCV"
   ]
  },
  {
   "cell_type": "markdown",
   "metadata": {},
   "source": [
    "## Import and preview data\n",
    "It came from here: https://github.com/h2oai/h2o-3/blob/master/h2o-py/demos/word2vec_craigslistjobtitles.ipynb"
   ]
  },
  {
   "cell_type": "code",
   "execution_count": 2,
   "metadata": {},
   "outputs": [],
   "source": [
    "cl = pd.read_csv(\"https://raw.githubusercontent.com/h2oai/sparkling-water/rel-1.6/examples/smalldata/craigslistJobTitles.csv\",\n",
    "                encoding='ISO-8859-1')"
   ]
  },
  {
   "cell_type": "code",
   "execution_count": 3,
   "metadata": {},
   "outputs": [
    {
     "data": {
      "text/html": [
       "<div>\n",
       "<style scoped>\n",
       "    .dataframe tbody tr th:only-of-type {\n",
       "        vertical-align: middle;\n",
       "    }\n",
       "\n",
       "    .dataframe tbody tr th {\n",
       "        vertical-align: top;\n",
       "    }\n",
       "\n",
       "    .dataframe thead th {\n",
       "        text-align: right;\n",
       "    }\n",
       "</style>\n",
       "<table border=\"1\" class=\"dataframe\">\n",
       "  <thead>\n",
       "    <tr style=\"text-align: right;\">\n",
       "      <th></th>\n",
       "      <th>category</th>\n",
       "      <th>jobtitle</th>\n",
       "    </tr>\n",
       "  </thead>\n",
       "  <tbody>\n",
       "    <tr>\n",
       "      <th>0</th>\n",
       "      <td>education</td>\n",
       "      <td>After School Supervisor</td>\n",
       "    </tr>\n",
       "    <tr>\n",
       "      <th>1</th>\n",
       "      <td>education</td>\n",
       "      <td>*****TUTORS NEEDED - FOR ALL SUBJECTS, ALL AGE...</td>\n",
       "    </tr>\n",
       "    <tr>\n",
       "      <th>2</th>\n",
       "      <td>education</td>\n",
       "      <td>Bay Area Family Recruiter</td>\n",
       "    </tr>\n",
       "    <tr>\n",
       "      <th>3</th>\n",
       "      <td>education</td>\n",
       "      <td>Adult Day Programs/Community Access/Job Coaches</td>\n",
       "    </tr>\n",
       "    <tr>\n",
       "      <th>4</th>\n",
       "      <td>education</td>\n",
       "      <td>General Counselor - Non Tenure track</td>\n",
       "    </tr>\n",
       "    <tr>\n",
       "      <th>5</th>\n",
       "      <td>education</td>\n",
       "      <td>Part-Time Summer Math Teachers/Tutors</td>\n",
       "    </tr>\n",
       "    <tr>\n",
       "      <th>6</th>\n",
       "      <td>education</td>\n",
       "      <td>Preschool Teacher (temp-to-hire)</td>\n",
       "    </tr>\n",
       "    <tr>\n",
       "      <th>7</th>\n",
       "      <td>education</td>\n",
       "      <td>*****TUTORS NEEDED - FOR ALL SUBJECTS, ALL AGE...</td>\n",
       "    </tr>\n",
       "    <tr>\n",
       "      <th>8</th>\n",
       "      <td>education</td>\n",
       "      <td>Private Teachers and Tutors Needed in the Sout...</td>\n",
       "    </tr>\n",
       "    <tr>\n",
       "      <th>9</th>\n",
       "      <td>education</td>\n",
       "      <td>Art Therapist at Esther B. Clark School</td>\n",
       "    </tr>\n",
       "  </tbody>\n",
       "</table>\n",
       "</div>"
      ],
      "text/plain": [
       "    category                                           jobtitle\n",
       "0  education                            After School Supervisor\n",
       "1  education  *****TUTORS NEEDED - FOR ALL SUBJECTS, ALL AGE...\n",
       "2  education                          Bay Area Family Recruiter\n",
       "3  education    Adult Day Programs/Community Access/Job Coaches\n",
       "4  education               General Counselor - Non Tenure track\n",
       "5  education              Part-Time Summer Math Teachers/Tutors\n",
       "6  education                   Preschool Teacher (temp-to-hire)\n",
       "7  education  *****TUTORS NEEDED - FOR ALL SUBJECTS, ALL AGE...\n",
       "8  education  Private Teachers and Tutors Needed in the Sout...\n",
       "9  education            Art Therapist at Esther B. Clark School"
      ]
     },
     "execution_count": 3,
     "metadata": {},
     "output_type": "execute_result"
    }
   ],
   "source": [
    "cl.head(10)"
   ]
  },
  {
   "cell_type": "code",
   "execution_count": 4,
   "metadata": {},
   "outputs": [
    {
     "data": {
      "text/plain": [
       "(13845, 2)"
      ]
     },
     "execution_count": 4,
     "metadata": {},
     "output_type": "execute_result"
    }
   ],
   "source": [
    "cl.shape"
   ]
  },
  {
   "cell_type": "code",
   "execution_count": 5,
   "metadata": {},
   "outputs": [
    {
     "data": {
      "text/plain": [
       "labor              2500\n",
       "administrative     2500\n",
       "foodbeverage       2495\n",
       "education          2438\n",
       "customerservice    2319\n",
       "accounting         1593\n",
       "Name: category, dtype: int64"
      ]
     },
     "execution_count": 5,
     "metadata": {},
     "output_type": "execute_result"
    }
   ],
   "source": [
    "cl.category.value_counts()"
   ]
  },
  {
   "cell_type": "markdown",
   "metadata": {},
   "source": [
    "## Data cleaning / processing / langauge parsing"
   ]
  },
  {
   "cell_type": "code",
   "execution_count": 6,
   "metadata": {},
   "outputs": [],
   "source": [
    "nlp = spacy.load('en')"
   ]
  },
  {
   "cell_type": "code",
   "execution_count": 7,
   "metadata": {},
   "outputs": [],
   "source": [
    "## Attempt to nlp all text without cleaning\n",
    "\n",
    "nlp_col = []\n",
    "for row in cl.index:\n",
    "    nlp_list = []\n",
    "    nlp_text = nlp(cl.loc[row, 'jobtitle'].lower())\n",
    "    for token in nlp_text:\n",
    "        nlp_list.append(token)\n",
    "    nlp_col.append(nlp_list)\n",
    "\n",
    "cl['jobtitle_nlp'] = nlp_col"
   ]
  },
  {
   "cell_type": "code",
   "execution_count": 8,
   "metadata": {},
   "outputs": [
    {
     "data": {
      "text/html": [
       "<div>\n",
       "<style scoped>\n",
       "    .dataframe tbody tr th:only-of-type {\n",
       "        vertical-align: middle;\n",
       "    }\n",
       "\n",
       "    .dataframe tbody tr th {\n",
       "        vertical-align: top;\n",
       "    }\n",
       "\n",
       "    .dataframe thead th {\n",
       "        text-align: right;\n",
       "    }\n",
       "</style>\n",
       "<table border=\"1\" class=\"dataframe\">\n",
       "  <thead>\n",
       "    <tr style=\"text-align: right;\">\n",
       "      <th></th>\n",
       "      <th>category</th>\n",
       "      <th>jobtitle</th>\n",
       "      <th>jobtitle_nlp</th>\n",
       "    </tr>\n",
       "  </thead>\n",
       "  <tbody>\n",
       "    <tr>\n",
       "      <th>0</th>\n",
       "      <td>education</td>\n",
       "      <td>After School Supervisor</td>\n",
       "      <td>[after, school, supervisor]</td>\n",
       "    </tr>\n",
       "    <tr>\n",
       "      <th>1</th>\n",
       "      <td>education</td>\n",
       "      <td>*****TUTORS NEEDED - FOR ALL SUBJECTS, ALL AGE...</td>\n",
       "      <td>[*, *, *, *, *, tutors, needed, -, for, all, s...</td>\n",
       "    </tr>\n",
       "    <tr>\n",
       "      <th>2</th>\n",
       "      <td>education</td>\n",
       "      <td>Bay Area Family Recruiter</td>\n",
       "      <td>[bay, area, family, recruiter]</td>\n",
       "    </tr>\n",
       "    <tr>\n",
       "      <th>3</th>\n",
       "      <td>education</td>\n",
       "      <td>Adult Day Programs/Community Access/Job Coaches</td>\n",
       "      <td>[adult, day, programs, /, community, access, /...</td>\n",
       "    </tr>\n",
       "    <tr>\n",
       "      <th>4</th>\n",
       "      <td>education</td>\n",
       "      <td>General Counselor - Non Tenure track</td>\n",
       "      <td>[general, counselor, -, non, tenure, track]</td>\n",
       "    </tr>\n",
       "    <tr>\n",
       "      <th>5</th>\n",
       "      <td>education</td>\n",
       "      <td>Part-Time Summer Math Teachers/Tutors</td>\n",
       "      <td>[part, -, time, summer, math, teachers, /, tut...</td>\n",
       "    </tr>\n",
       "    <tr>\n",
       "      <th>6</th>\n",
       "      <td>education</td>\n",
       "      <td>Preschool Teacher (temp-to-hire)</td>\n",
       "      <td>[preschool, teacher, (, temp, -, to, -, hire, )]</td>\n",
       "    </tr>\n",
       "    <tr>\n",
       "      <th>7</th>\n",
       "      <td>education</td>\n",
       "      <td>*****TUTORS NEEDED - FOR ALL SUBJECTS, ALL AGE...</td>\n",
       "      <td>[*, *, *, *, *, tutors, needed, -, for, all, s...</td>\n",
       "    </tr>\n",
       "    <tr>\n",
       "      <th>8</th>\n",
       "      <td>education</td>\n",
       "      <td>Private Teachers and Tutors Needed in the Sout...</td>\n",
       "      <td>[private, teachers, and, tutors, needed, in, t...</td>\n",
       "    </tr>\n",
       "    <tr>\n",
       "      <th>9</th>\n",
       "      <td>education</td>\n",
       "      <td>Art Therapist at Esther B. Clark School</td>\n",
       "      <td>[art, therapist, at, esther, b., clark, school]</td>\n",
       "    </tr>\n",
       "    <tr>\n",
       "      <th>10</th>\n",
       "      <td>education</td>\n",
       "      <td>Tutoring Position Available!!! Immediate Hire ...</td>\n",
       "      <td>[tutoring, position, available, !, !, !, immed...</td>\n",
       "    </tr>\n",
       "    <tr>\n",
       "      <th>11</th>\n",
       "      <td>education</td>\n",
       "      <td>Part-Time Art Instructor Needed!!</td>\n",
       "      <td>[part, -, time, art, instructor, needed, !, !]</td>\n",
       "    </tr>\n",
       "    <tr>\n",
       "      <th>12</th>\n",
       "      <td>education</td>\n",
       "      <td>Science Day Camp Leader @ CuriOdyssey</td>\n",
       "      <td>[science, day, camp, leader, @, curiodyssey]</td>\n",
       "    </tr>\n",
       "    <tr>\n",
       "      <th>13</th>\n",
       "      <td>education</td>\n",
       "      <td>After School K-5 Floater</td>\n",
       "      <td>[after, school, k-5, floater]</td>\n",
       "    </tr>\n",
       "    <tr>\n",
       "      <th>14</th>\n",
       "      <td>education</td>\n",
       "      <td>Part-Time Behavior Interventionist</td>\n",
       "      <td>[part, -, time, behavior, interventionist]</td>\n",
       "    </tr>\n",
       "    <tr>\n",
       "      <th>15</th>\n",
       "      <td>education</td>\n",
       "      <td>Assistant Director - Preschool</td>\n",
       "      <td>[assistant, director, -, preschool]</td>\n",
       "    </tr>\n",
       "    <tr>\n",
       "      <th>16</th>\n",
       "      <td>education</td>\n",
       "      <td>Preschool Teacher/ After-School Teacher</td>\n",
       "      <td>[preschool, teacher/, after, -, school, teacher]</td>\n",
       "    </tr>\n",
       "    <tr>\n",
       "      <th>17</th>\n",
       "      <td>education</td>\n",
       "      <td>Teacher Aide and Driver Aide for Special Need ...</td>\n",
       "      <td>[teacher, aide, and, driver, aide, for, specia...</td>\n",
       "    </tr>\n",
       "    <tr>\n",
       "      <th>18</th>\n",
       "      <td>education</td>\n",
       "      <td>Academic Consulting Company is looking for tea...</td>\n",
       "      <td>[academic, consulting, company, is, looking, f...</td>\n",
       "    </tr>\n",
       "    <tr>\n",
       "      <th>19</th>\n",
       "      <td>education</td>\n",
       "      <td>BILINGUAL LOCAL COORDINATOR NEEDED</td>\n",
       "      <td>[bilingual, local, coordinator, needed]</td>\n",
       "    </tr>\n",
       "    <tr>\n",
       "      <th>20</th>\n",
       "      <td>education</td>\n",
       "      <td>Recreation Specialist - Sports</td>\n",
       "      <td>[recreation, specialist, -, sports]</td>\n",
       "    </tr>\n",
       "    <tr>\n",
       "      <th>21</th>\n",
       "      <td>education</td>\n",
       "      <td>Special Needs Nanny/Therapist</td>\n",
       "      <td>[special, needs, nanny, /, therapist]</td>\n",
       "    </tr>\n",
       "    <tr>\n",
       "      <th>22</th>\n",
       "      <td>education</td>\n",
       "      <td>SPECIAL ED TEACHERS - WORK WITH THE BEST</td>\n",
       "      <td>[special, ed, teachers, -, work, with, the, best]</td>\n",
       "    </tr>\n",
       "    <tr>\n",
       "      <th>23</th>\n",
       "      <td>education</td>\n",
       "      <td>Substitute &amp; Permanent Teachers Breaking Records!</td>\n",
       "      <td>[substitute, &amp;, permanent, teachers, breaking,...</td>\n",
       "    </tr>\n",
       "    <tr>\n",
       "      <th>24</th>\n",
       "      <td>education</td>\n",
       "      <td>Montessori Pre-School / Kindergarten Position ...</td>\n",
       "      <td>[montessori, pre, -, school, /, kindergarten, ...</td>\n",
       "    </tr>\n",
       "    <tr>\n",
       "      <th>25</th>\n",
       "      <td>education</td>\n",
       "      <td>60-70 Tutors Needed: All Academic &amp; Test Prep ...</td>\n",
       "      <td>[60, -, 70, tutors, needed, :, all, academic, ...</td>\n",
       "    </tr>\n",
       "    <tr>\n",
       "      <th>26</th>\n",
       "      <td>education</td>\n",
       "      <td>Culinary Arts Instructor - Treasure Island Job...</td>\n",
       "      <td>[culinary, arts, instructor, -, treasure, isla...</td>\n",
       "    </tr>\n",
       "    <tr>\n",
       "      <th>27</th>\n",
       "      <td>education</td>\n",
       "      <td>***English / Math Teachers Needed For Immediat...</td>\n",
       "      <td>[*, *, *, english, /, math, teachers, needed, ...</td>\n",
       "    </tr>\n",
       "    <tr>\n",
       "      <th>28</th>\n",
       "      <td>education</td>\n",
       "      <td>Tutors Needed</td>\n",
       "      <td>[tutors, needed]</td>\n",
       "    </tr>\n",
       "    <tr>\n",
       "      <th>29</th>\n",
       "      <td>education</td>\n",
       "      <td>PRESCHOOL TEACHER</td>\n",
       "      <td>[preschool, teacher]</td>\n",
       "    </tr>\n",
       "    <tr>\n",
       "      <th>...</th>\n",
       "      <td>...</td>\n",
       "      <td>...</td>\n",
       "      <td>...</td>\n",
       "    </tr>\n",
       "    <tr>\n",
       "      <th>13815</th>\n",
       "      <td>customerservice</td>\n",
       "      <td>Cell Phone Sales- FULL TIME Positions with a G...</td>\n",
       "      <td>[cell, phone, sales-, full, time, positions, w...</td>\n",
       "    </tr>\n",
       "    <tr>\n",
       "      <th>13816</th>\n",
       "      <td>customerservice</td>\n",
       "      <td>Part-time + Full-time Fashion Consultants</td>\n",
       "      <td>[part, -, time, +, full, -, time, fashion, con...</td>\n",
       "    </tr>\n",
       "    <tr>\n",
       "      <th>13817</th>\n",
       "      <td>customerservice</td>\n",
       "      <td>PERMANENT PART TIME WEEKEND POSITION</td>\n",
       "      <td>[permanent, part, time, weekend, position]</td>\n",
       "    </tr>\n",
       "    <tr>\n",
       "      <th>13818</th>\n",
       "      <td>customerservice</td>\n",
       "      <td>Customer Service Representative</td>\n",
       "      <td>[customer, service, representative]</td>\n",
       "    </tr>\n",
       "    <tr>\n",
       "      <th>13819</th>\n",
       "      <td>customerservice</td>\n",
       "      <td>Now Hiring!! Vehicle Purchasing Agents!</td>\n",
       "      <td>[now, hiring, !, !, vehicle, purchasing, agent...</td>\n",
       "    </tr>\n",
       "    <tr>\n",
       "      <th>13820</th>\n",
       "      <td>customerservice</td>\n",
       "      <td>Account Manager (Printing &amp; Promotion)</td>\n",
       "      <td>[account, manager, (, printing, &amp;, promotion, )]</td>\n",
       "    </tr>\n",
       "    <tr>\n",
       "      <th>13821</th>\n",
       "      <td>customerservice</td>\n",
       "      <td>Join Us at City Park for a Professional Valet ...</td>\n",
       "      <td>[join, us, at, city, park, for, a, professiona...</td>\n",
       "    </tr>\n",
       "    <tr>\n",
       "      <th>13822</th>\n",
       "      <td>customerservice</td>\n",
       "      <td>Plumber Needed</td>\n",
       "      <td>[plumber, needed]</td>\n",
       "    </tr>\n",
       "    <tr>\n",
       "      <th>13823</th>\n",
       "      <td>customerservice</td>\n",
       "      <td>ENTRY LEVEL SPORTS MARKETING AND ADVERTISING</td>\n",
       "      <td>[entry, level, sports, marketing, and, adverti...</td>\n",
       "    </tr>\n",
       "    <tr>\n",
       "      <th>13824</th>\n",
       "      <td>customerservice</td>\n",
       "      <td>18YRS &amp; UP/HELP WANTED</td>\n",
       "      <td>[18yrs, &amp;, up, /, help, wanted]</td>\n",
       "    </tr>\n",
       "    <tr>\n",
       "      <th>13825</th>\n",
       "      <td>customerservice</td>\n",
       "      <td>Medical Cannabis Delivery Driver</td>\n",
       "      <td>[medical, cannabis, delivery, driver]</td>\n",
       "    </tr>\n",
       "    <tr>\n",
       "      <th>13826</th>\n",
       "      <td>customerservice</td>\n",
       "      <td>BILINGUAL Financial Service Representative</td>\n",
       "      <td>[bilingual, financial, service, representative]</td>\n",
       "    </tr>\n",
       "    <tr>\n",
       "      <th>13827</th>\n",
       "      <td>customerservice</td>\n",
       "      <td>QUALITY ASSURANCE SPECIALIST NEEDED ASAP</td>\n",
       "      <td>[quality, assurance, specialist, needed, asap]</td>\n",
       "    </tr>\n",
       "    <tr>\n",
       "      <th>13828</th>\n",
       "      <td>customerservice</td>\n",
       "      <td>Hey There, Customer Service Superstar!</td>\n",
       "      <td>[hey, there, ,, customer, service, superstar, !]</td>\n",
       "    </tr>\n",
       "    <tr>\n",
       "      <th>13829</th>\n",
       "      <td>customerservice</td>\n",
       "      <td>FT/PT Customer Service positions at Petroglyph...</td>\n",
       "      <td>[ft, /, pt, customer, service, positions, at, ...</td>\n",
       "    </tr>\n",
       "    <tr>\n",
       "      <th>13830</th>\n",
       "      <td>customerservice</td>\n",
       "      <td> ÕEarn $14-$25/Hr On A Flexible Schedule As A...</td>\n",
       "      <td>[,  , õearn, $, 14-$25/hr, on, a, flexible, s...</td>\n",
       "    </tr>\n",
       "    <tr>\n",
       "      <th>13831</th>\n",
       "      <td>customerservice</td>\n",
       "      <td>**Rental Agent - Nissan of Vacaville**</td>\n",
       "      <td>[*, *, rental, agent, -, nissan, of, vacaville...</td>\n",
       "    </tr>\n",
       "    <tr>\n",
       "      <th>13832</th>\n",
       "      <td>customerservice</td>\n",
       "      <td>Customer Success and Project Manager</td>\n",
       "      <td>[customer, success, and, project, manager]</td>\n",
       "    </tr>\n",
       "    <tr>\n",
       "      <th>13833</th>\n",
       "      <td>customerservice</td>\n",
       "      <td>Customer Support position (Spanish) with onlin...</td>\n",
       "      <td>[customer, support, position, (, spanish, ), w...</td>\n",
       "    </tr>\n",
       "    <tr>\n",
       "      <th>13834</th>\n",
       "      <td>customerservice</td>\n",
       "      <td>Athletic Club Front Desk &amp; Cafe</td>\n",
       "      <td>[athletic, club, front, desk, &amp;, cafe]</td>\n",
       "    </tr>\n",
       "    <tr>\n",
       "      <th>13835</th>\n",
       "      <td>customerservice</td>\n",
       "      <td>Customer Service Representative (Contract) - R...</td>\n",
       "      <td>[customer, service, representative, (, contrac...</td>\n",
       "    </tr>\n",
       "    <tr>\n",
       "      <th>13836</th>\n",
       "      <td>customerservice</td>\n",
       "      <td>==$==&gt;Customer Service Superstars Needed!</td>\n",
       "      <td>[=, =, $, =, =, &gt;, customer, service, supersta...</td>\n",
       "    </tr>\n",
       "    <tr>\n",
       "      <th>13837</th>\n",
       "      <td>customerservice</td>\n",
       "      <td>Hotel Front Desk Associate</td>\n",
       "      <td>[hotel, front, desk, associate]</td>\n",
       "    </tr>\n",
       "    <tr>\n",
       "      <th>13838</th>\n",
       "      <td>customerservice</td>\n",
       "      <td>Part-Time Event Host/Hostess</td>\n",
       "      <td>[part, -, time, event, host, /, hostess]</td>\n",
       "    </tr>\n",
       "    <tr>\n",
       "      <th>13839</th>\n",
       "      <td>customerservice</td>\n",
       "      <td>Customer Service Job at Up and coming Company</td>\n",
       "      <td>[customer, service, job, at, up, and, coming, ...</td>\n",
       "    </tr>\n",
       "    <tr>\n",
       "      <th>13840</th>\n",
       "      <td>customerservice</td>\n",
       "      <td>Self-Driving Vehicle Operator / Operations Ass...</td>\n",
       "      <td>[self, -, driving, vehicle, operator, /, opera...</td>\n",
       "    </tr>\n",
       "    <tr>\n",
       "      <th>13841</th>\n",
       "      <td>customerservice</td>\n",
       "      <td>Driver Specialist</td>\n",
       "      <td>[driver, specialist]</td>\n",
       "    </tr>\n",
       "    <tr>\n",
       "      <th>13842</th>\n",
       "      <td>customerservice</td>\n",
       "      <td>Customer Service for Construction Related Company</td>\n",
       "      <td>[customer, service, for, construction, related...</td>\n",
       "    </tr>\n",
       "    <tr>\n",
       "      <th>13843</th>\n",
       "      <td>customerservice</td>\n",
       "      <td>Oilstop Drive Thru Oil Change is Hiring!</td>\n",
       "      <td>[oilstop, drive, thru, oil, change, is, hiring...</td>\n",
       "    </tr>\n",
       "    <tr>\n",
       "      <th>13844</th>\n",
       "      <td>customerservice</td>\n",
       "      <td>Relief Assistant - Part time</td>\n",
       "      <td>[relief, assistant, -, part, time]</td>\n",
       "    </tr>\n",
       "  </tbody>\n",
       "</table>\n",
       "<p>13845 rows × 3 columns</p>\n",
       "</div>"
      ],
      "text/plain": [
       "              category                                           jobtitle  \\\n",
       "0            education                            After School Supervisor   \n",
       "1            education  *****TUTORS NEEDED - FOR ALL SUBJECTS, ALL AGE...   \n",
       "2            education                          Bay Area Family Recruiter   \n",
       "3            education    Adult Day Programs/Community Access/Job Coaches   \n",
       "4            education               General Counselor - Non Tenure track   \n",
       "5            education              Part-Time Summer Math Teachers/Tutors   \n",
       "6            education                   Preschool Teacher (temp-to-hire)   \n",
       "7            education  *****TUTORS NEEDED - FOR ALL SUBJECTS, ALL AGE...   \n",
       "8            education  Private Teachers and Tutors Needed in the Sout...   \n",
       "9            education            Art Therapist at Esther B. Clark School   \n",
       "10           education  Tutoring Position Available!!! Immediate Hire ...   \n",
       "11           education                  Part-Time Art Instructor Needed!!   \n",
       "12           education              Science Day Camp Leader @ CuriOdyssey   \n",
       "13           education                           After School K-5 Floater   \n",
       "14           education                 Part-Time Behavior Interventionist   \n",
       "15           education                     Assistant Director - Preschool   \n",
       "16           education            Preschool Teacher/ After-School Teacher   \n",
       "17           education  Teacher Aide and Driver Aide for Special Need ...   \n",
       "18           education  Academic Consulting Company is looking for tea...   \n",
       "19           education                 BILINGUAL LOCAL COORDINATOR NEEDED   \n",
       "20           education                     Recreation Specialist - Sports   \n",
       "21           education                      Special Needs Nanny/Therapist   \n",
       "22           education           SPECIAL ED TEACHERS - WORK WITH THE BEST   \n",
       "23           education  Substitute & Permanent Teachers Breaking Records!   \n",
       "24           education  Montessori Pre-School / Kindergarten Position ...   \n",
       "25           education  60-70 Tutors Needed: All Academic & Test Prep ...   \n",
       "26           education  Culinary Arts Instructor - Treasure Island Job...   \n",
       "27           education  ***English / Math Teachers Needed For Immediat...   \n",
       "28           education                                      Tutors Needed   \n",
       "29           education                                  PRESCHOOL TEACHER   \n",
       "...                ...                                                ...   \n",
       "13815  customerservice  Cell Phone Sales- FULL TIME Positions with a G...   \n",
       "13816  customerservice          Part-time + Full-time Fashion Consultants   \n",
       "13817  customerservice               PERMANENT PART TIME WEEKEND POSITION   \n",
       "13818  customerservice                    Customer Service Representative   \n",
       "13819  customerservice            Now Hiring!! Vehicle Purchasing Agents!   \n",
       "13820  customerservice             Account Manager (Printing & Promotion)   \n",
       "13821  customerservice  Join Us at City Park for a Professional Valet ...   \n",
       "13822  customerservice                                     Plumber Needed   \n",
       "13823  customerservice       ENTRY LEVEL SPORTS MARKETING AND ADVERTISING   \n",
       "13824  customerservice                             18YRS & UP/HELP WANTED   \n",
       "13825  customerservice                   Medical Cannabis Delivery Driver   \n",
       "13826  customerservice         BILINGUAL Financial Service Representative   \n",
       "13827  customerservice           QUALITY ASSURANCE SPECIALIST NEEDED ASAP   \n",
       "13828  customerservice             Hey There, Customer Service Superstar!   \n",
       "13829  customerservice  FT/PT Customer Service positions at Petroglyph...   \n",
       "13830  customerservice   ÕEarn $14-$25/Hr On A Flexible Schedule As A...   \n",
       "13831  customerservice             **Rental Agent - Nissan of Vacaville**   \n",
       "13832  customerservice               Customer Success and Project Manager   \n",
       "13833  customerservice  Customer Support position (Spanish) with onlin...   \n",
       "13834  customerservice                    Athletic Club Front Desk & Cafe   \n",
       "13835  customerservice  Customer Service Representative (Contract) - R...   \n",
       "13836  customerservice          ==$==>Customer Service Superstars Needed!   \n",
       "13837  customerservice                         Hotel Front Desk Associate   \n",
       "13838  customerservice                       Part-Time Event Host/Hostess   \n",
       "13839  customerservice      Customer Service Job at Up and coming Company   \n",
       "13840  customerservice  Self-Driving Vehicle Operator / Operations Ass...   \n",
       "13841  customerservice                                  Driver Specialist   \n",
       "13842  customerservice  Customer Service for Construction Related Company   \n",
       "13843  customerservice           Oilstop Drive Thru Oil Change is Hiring!   \n",
       "13844  customerservice                       Relief Assistant - Part time   \n",
       "\n",
       "                                            jobtitle_nlp  \n",
       "0                            [after, school, supervisor]  \n",
       "1      [*, *, *, *, *, tutors, needed, -, for, all, s...  \n",
       "2                         [bay, area, family, recruiter]  \n",
       "3      [adult, day, programs, /, community, access, /...  \n",
       "4            [general, counselor, -, non, tenure, track]  \n",
       "5      [part, -, time, summer, math, teachers, /, tut...  \n",
       "6       [preschool, teacher, (, temp, -, to, -, hire, )]  \n",
       "7      [*, *, *, *, *, tutors, needed, -, for, all, s...  \n",
       "8      [private, teachers, and, tutors, needed, in, t...  \n",
       "9        [art, therapist, at, esther, b., clark, school]  \n",
       "10     [tutoring, position, available, !, !, !, immed...  \n",
       "11        [part, -, time, art, instructor, needed, !, !]  \n",
       "12          [science, day, camp, leader, @, curiodyssey]  \n",
       "13                         [after, school, k-5, floater]  \n",
       "14            [part, -, time, behavior, interventionist]  \n",
       "15                   [assistant, director, -, preschool]  \n",
       "16      [preschool, teacher/, after, -, school, teacher]  \n",
       "17     [teacher, aide, and, driver, aide, for, specia...  \n",
       "18     [academic, consulting, company, is, looking, f...  \n",
       "19               [bilingual, local, coordinator, needed]  \n",
       "20                   [recreation, specialist, -, sports]  \n",
       "21                 [special, needs, nanny, /, therapist]  \n",
       "22     [special, ed, teachers, -, work, with, the, best]  \n",
       "23     [substitute, &, permanent, teachers, breaking,...  \n",
       "24     [montessori, pre, -, school, /, kindergarten, ...  \n",
       "25     [60, -, 70, tutors, needed, :, all, academic, ...  \n",
       "26     [culinary, arts, instructor, -, treasure, isla...  \n",
       "27     [*, *, *, english, /, math, teachers, needed, ...  \n",
       "28                                      [tutors, needed]  \n",
       "29                                  [preschool, teacher]  \n",
       "...                                                  ...  \n",
       "13815  [cell, phone, sales-, full, time, positions, w...  \n",
       "13816  [part, -, time, +, full, -, time, fashion, con...  \n",
       "13817         [permanent, part, time, weekend, position]  \n",
       "13818                [customer, service, representative]  \n",
       "13819  [now, hiring, !, !, vehicle, purchasing, agent...  \n",
       "13820   [account, manager, (, printing, &, promotion, )]  \n",
       "13821  [join, us, at, city, park, for, a, professiona...  \n",
       "13822                                  [plumber, needed]  \n",
       "13823  [entry, level, sports, marketing, and, adverti...  \n",
       "13824                    [18yrs, &, up, /, help, wanted]  \n",
       "13825              [medical, cannabis, delivery, driver]  \n",
       "13826    [bilingual, financial, service, representative]  \n",
       "13827     [quality, assurance, specialist, needed, asap]  \n",
       "13828   [hey, there, ,, customer, service, superstar, !]  \n",
       "13829  [ft, /, pt, customer, service, positions, at, ...  \n",
       "13830  [,  , õearn, $, 14-$25/hr, on, a, flexible, s...  \n",
       "13831  [*, *, rental, agent, -, nissan, of, vacaville...  \n",
       "13832         [customer, success, and, project, manager]  \n",
       "13833  [customer, support, position, (, spanish, ), w...  \n",
       "13834             [athletic, club, front, desk, &, cafe]  \n",
       "13835  [customer, service, representative, (, contrac...  \n",
       "13836  [=, =, $, =, =, >, customer, service, supersta...  \n",
       "13837                    [hotel, front, desk, associate]  \n",
       "13838           [part, -, time, event, host, /, hostess]  \n",
       "13839  [customer, service, job, at, up, and, coming, ...  \n",
       "13840  [self, -, driving, vehicle, operator, /, opera...  \n",
       "13841                               [driver, specialist]  \n",
       "13842  [customer, service, for, construction, related...  \n",
       "13843  [oilstop, drive, thru, oil, change, is, hiring...  \n",
       "13844                 [relief, assistant, -, part, time]  \n",
       "\n",
       "[13845 rows x 3 columns]"
      ]
     },
     "execution_count": 8,
     "metadata": {},
     "output_type": "execute_result"
    }
   ],
   "source": [
    "cl"
   ]
  },
  {
   "cell_type": "code",
   "execution_count": 9,
   "metadata": {},
   "outputs": [],
   "source": [
    "## Remove all punctuation because not needed for this situation\n",
    "## Remove stopwords too\n",
    "\n",
    "no_punct = []\n",
    "for row in cl.index:\n",
    "    text = cl.loc[row, 'jobtitle_nlp']\n",
    "    no_punct_text = []\n",
    "    for token in text:\n",
    "        if not token.is_punct and not token.is_stop:\n",
    "            no_punct_text.append(token)\n",
    "    no_punct.append(no_punct_text)\n",
    "    \n",
    "cl['job_clean'] = no_punct"
   ]
  },
  {
   "cell_type": "code",
   "execution_count": 10,
   "metadata": {},
   "outputs": [
    {
     "data": {
      "text/html": [
       "<div>\n",
       "<style scoped>\n",
       "    .dataframe tbody tr th:only-of-type {\n",
       "        vertical-align: middle;\n",
       "    }\n",
       "\n",
       "    .dataframe tbody tr th {\n",
       "        vertical-align: top;\n",
       "    }\n",
       "\n",
       "    .dataframe thead th {\n",
       "        text-align: right;\n",
       "    }\n",
       "</style>\n",
       "<table border=\"1\" class=\"dataframe\">\n",
       "  <thead>\n",
       "    <tr style=\"text-align: right;\">\n",
       "      <th></th>\n",
       "      <th>category</th>\n",
       "      <th>jobtitle</th>\n",
       "      <th>jobtitle_nlp</th>\n",
       "      <th>job_clean</th>\n",
       "    </tr>\n",
       "  </thead>\n",
       "  <tbody>\n",
       "    <tr>\n",
       "      <th>0</th>\n",
       "      <td>education</td>\n",
       "      <td>After School Supervisor</td>\n",
       "      <td>[after, school, supervisor]</td>\n",
       "      <td>[school, supervisor]</td>\n",
       "    </tr>\n",
       "    <tr>\n",
       "      <th>1</th>\n",
       "      <td>education</td>\n",
       "      <td>*****TUTORS NEEDED - FOR ALL SUBJECTS, ALL AGE...</td>\n",
       "      <td>[*, *, *, *, *, tutors, needed, -, for, all, s...</td>\n",
       "      <td>[tutors, needed, subjects, ages]</td>\n",
       "    </tr>\n",
       "    <tr>\n",
       "      <th>2</th>\n",
       "      <td>education</td>\n",
       "      <td>Bay Area Family Recruiter</td>\n",
       "      <td>[bay, area, family, recruiter]</td>\n",
       "      <td>[bay, area, family, recruiter]</td>\n",
       "    </tr>\n",
       "    <tr>\n",
       "      <th>3</th>\n",
       "      <td>education</td>\n",
       "      <td>Adult Day Programs/Community Access/Job Coaches</td>\n",
       "      <td>[adult, day, programs, /, community, access, /...</td>\n",
       "      <td>[adult, day, programs, community, access, job,...</td>\n",
       "    </tr>\n",
       "    <tr>\n",
       "      <th>4</th>\n",
       "      <td>education</td>\n",
       "      <td>General Counselor - Non Tenure track</td>\n",
       "      <td>[general, counselor, -, non, tenure, track]</td>\n",
       "      <td>[general, counselor, non, tenure, track]</td>\n",
       "    </tr>\n",
       "    <tr>\n",
       "      <th>5</th>\n",
       "      <td>education</td>\n",
       "      <td>Part-Time Summer Math Teachers/Tutors</td>\n",
       "      <td>[part, -, time, summer, math, teachers, /, tut...</td>\n",
       "      <td>[time, summer, math, teachers, tutors]</td>\n",
       "    </tr>\n",
       "    <tr>\n",
       "      <th>6</th>\n",
       "      <td>education</td>\n",
       "      <td>Preschool Teacher (temp-to-hire)</td>\n",
       "      <td>[preschool, teacher, (, temp, -, to, -, hire, )]</td>\n",
       "      <td>[preschool, teacher, temp, hire]</td>\n",
       "    </tr>\n",
       "    <tr>\n",
       "      <th>7</th>\n",
       "      <td>education</td>\n",
       "      <td>*****TUTORS NEEDED - FOR ALL SUBJECTS, ALL AGE...</td>\n",
       "      <td>[*, *, *, *, *, tutors, needed, -, for, all, s...</td>\n",
       "      <td>[tutors, needed, subjects, ages]</td>\n",
       "    </tr>\n",
       "    <tr>\n",
       "      <th>8</th>\n",
       "      <td>education</td>\n",
       "      <td>Private Teachers and Tutors Needed in the Sout...</td>\n",
       "      <td>[private, teachers, and, tutors, needed, in, t...</td>\n",
       "      <td>[private, teachers, tutors, needed, south, bay]</td>\n",
       "    </tr>\n",
       "    <tr>\n",
       "      <th>9</th>\n",
       "      <td>education</td>\n",
       "      <td>Art Therapist at Esther B. Clark School</td>\n",
       "      <td>[art, therapist, at, esther, b., clark, school]</td>\n",
       "      <td>[art, therapist, esther, b., clark, school]</td>\n",
       "    </tr>\n",
       "    <tr>\n",
       "      <th>10</th>\n",
       "      <td>education</td>\n",
       "      <td>Tutoring Position Available!!! Immediate Hire ...</td>\n",
       "      <td>[tutoring, position, available, !, !, !, immed...</td>\n",
       "      <td>[tutoring, position, available, immediate, hir...</td>\n",
       "    </tr>\n",
       "    <tr>\n",
       "      <th>11</th>\n",
       "      <td>education</td>\n",
       "      <td>Part-Time Art Instructor Needed!!</td>\n",
       "      <td>[part, -, time, art, instructor, needed, !, !]</td>\n",
       "      <td>[time, art, instructor, needed]</td>\n",
       "    </tr>\n",
       "    <tr>\n",
       "      <th>12</th>\n",
       "      <td>education</td>\n",
       "      <td>Science Day Camp Leader @ CuriOdyssey</td>\n",
       "      <td>[science, day, camp, leader, @, curiodyssey]</td>\n",
       "      <td>[science, day, camp, leader, curiodyssey]</td>\n",
       "    </tr>\n",
       "    <tr>\n",
       "      <th>13</th>\n",
       "      <td>education</td>\n",
       "      <td>After School K-5 Floater</td>\n",
       "      <td>[after, school, k-5, floater]</td>\n",
       "      <td>[school, k-5, floater]</td>\n",
       "    </tr>\n",
       "    <tr>\n",
       "      <th>14</th>\n",
       "      <td>education</td>\n",
       "      <td>Part-Time Behavior Interventionist</td>\n",
       "      <td>[part, -, time, behavior, interventionist]</td>\n",
       "      <td>[time, behavior, interventionist]</td>\n",
       "    </tr>\n",
       "    <tr>\n",
       "      <th>15</th>\n",
       "      <td>education</td>\n",
       "      <td>Assistant Director - Preschool</td>\n",
       "      <td>[assistant, director, -, preschool]</td>\n",
       "      <td>[assistant, director, preschool]</td>\n",
       "    </tr>\n",
       "    <tr>\n",
       "      <th>16</th>\n",
       "      <td>education</td>\n",
       "      <td>Preschool Teacher/ After-School Teacher</td>\n",
       "      <td>[preschool, teacher/, after, -, school, teacher]</td>\n",
       "      <td>[preschool, teacher/, school, teacher]</td>\n",
       "    </tr>\n",
       "    <tr>\n",
       "      <th>17</th>\n",
       "      <td>education</td>\n",
       "      <td>Teacher Aide and Driver Aide for Special Need ...</td>\n",
       "      <td>[teacher, aide, and, driver, aide, for, specia...</td>\n",
       "      <td>[teacher, aide, driver, aide, special, need, s...</td>\n",
       "    </tr>\n",
       "    <tr>\n",
       "      <th>18</th>\n",
       "      <td>education</td>\n",
       "      <td>Academic Consulting Company is looking for tea...</td>\n",
       "      <td>[academic, consulting, company, is, looking, f...</td>\n",
       "      <td>[academic, consulting, company, looking, teach...</td>\n",
       "    </tr>\n",
       "    <tr>\n",
       "      <th>19</th>\n",
       "      <td>education</td>\n",
       "      <td>BILINGUAL LOCAL COORDINATOR NEEDED</td>\n",
       "      <td>[bilingual, local, coordinator, needed]</td>\n",
       "      <td>[bilingual, local, coordinator, needed]</td>\n",
       "    </tr>\n",
       "  </tbody>\n",
       "</table>\n",
       "</div>"
      ],
      "text/plain": [
       "     category                                           jobtitle  \\\n",
       "0   education                            After School Supervisor   \n",
       "1   education  *****TUTORS NEEDED - FOR ALL SUBJECTS, ALL AGE...   \n",
       "2   education                          Bay Area Family Recruiter   \n",
       "3   education    Adult Day Programs/Community Access/Job Coaches   \n",
       "4   education               General Counselor - Non Tenure track   \n",
       "5   education              Part-Time Summer Math Teachers/Tutors   \n",
       "6   education                   Preschool Teacher (temp-to-hire)   \n",
       "7   education  *****TUTORS NEEDED - FOR ALL SUBJECTS, ALL AGE...   \n",
       "8   education  Private Teachers and Tutors Needed in the Sout...   \n",
       "9   education            Art Therapist at Esther B. Clark School   \n",
       "10  education  Tutoring Position Available!!! Immediate Hire ...   \n",
       "11  education                  Part-Time Art Instructor Needed!!   \n",
       "12  education              Science Day Camp Leader @ CuriOdyssey   \n",
       "13  education                           After School K-5 Floater   \n",
       "14  education                 Part-Time Behavior Interventionist   \n",
       "15  education                     Assistant Director - Preschool   \n",
       "16  education            Preschool Teacher/ After-School Teacher   \n",
       "17  education  Teacher Aide and Driver Aide for Special Need ...   \n",
       "18  education  Academic Consulting Company is looking for tea...   \n",
       "19  education                 BILINGUAL LOCAL COORDINATOR NEEDED   \n",
       "\n",
       "                                         jobtitle_nlp  \\\n",
       "0                         [after, school, supervisor]   \n",
       "1   [*, *, *, *, *, tutors, needed, -, for, all, s...   \n",
       "2                      [bay, area, family, recruiter]   \n",
       "3   [adult, day, programs, /, community, access, /...   \n",
       "4         [general, counselor, -, non, tenure, track]   \n",
       "5   [part, -, time, summer, math, teachers, /, tut...   \n",
       "6    [preschool, teacher, (, temp, -, to, -, hire, )]   \n",
       "7   [*, *, *, *, *, tutors, needed, -, for, all, s...   \n",
       "8   [private, teachers, and, tutors, needed, in, t...   \n",
       "9     [art, therapist, at, esther, b., clark, school]   \n",
       "10  [tutoring, position, available, !, !, !, immed...   \n",
       "11     [part, -, time, art, instructor, needed, !, !]   \n",
       "12       [science, day, camp, leader, @, curiodyssey]   \n",
       "13                      [after, school, k-5, floater]   \n",
       "14         [part, -, time, behavior, interventionist]   \n",
       "15                [assistant, director, -, preschool]   \n",
       "16   [preschool, teacher/, after, -, school, teacher]   \n",
       "17  [teacher, aide, and, driver, aide, for, specia...   \n",
       "18  [academic, consulting, company, is, looking, f...   \n",
       "19            [bilingual, local, coordinator, needed]   \n",
       "\n",
       "                                            job_clean  \n",
       "0                                [school, supervisor]  \n",
       "1                    [tutors, needed, subjects, ages]  \n",
       "2                      [bay, area, family, recruiter]  \n",
       "3   [adult, day, programs, community, access, job,...  \n",
       "4            [general, counselor, non, tenure, track]  \n",
       "5              [time, summer, math, teachers, tutors]  \n",
       "6                    [preschool, teacher, temp, hire]  \n",
       "7                    [tutors, needed, subjects, ages]  \n",
       "8     [private, teachers, tutors, needed, south, bay]  \n",
       "9         [art, therapist, esther, b., clark, school]  \n",
       "10  [tutoring, position, available, immediate, hir...  \n",
       "11                    [time, art, instructor, needed]  \n",
       "12          [science, day, camp, leader, curiodyssey]  \n",
       "13                             [school, k-5, floater]  \n",
       "14                  [time, behavior, interventionist]  \n",
       "15                   [assistant, director, preschool]  \n",
       "16             [preschool, teacher/, school, teacher]  \n",
       "17  [teacher, aide, driver, aide, special, need, s...  \n",
       "18  [academic, consulting, company, looking, teach...  \n",
       "19            [bilingual, local, coordinator, needed]  "
      ]
     },
     "execution_count": 10,
     "metadata": {},
     "output_type": "execute_result"
    }
   ],
   "source": [
    "cl.head(20)"
   ]
  },
  {
   "cell_type": "code",
   "execution_count": 11,
   "metadata": {},
   "outputs": [
    {
     "data": {
      "text/plain": [
       "'teacher'"
      ]
     },
     "execution_count": 11,
     "metadata": {},
     "output_type": "execute_result"
    }
   ],
   "source": [
    "cl.loc[6, 'job_clean'][1].lemma_"
   ]
  },
  {
   "cell_type": "code",
   "execution_count": 12,
   "metadata": {},
   "outputs": [],
   "source": [
    "## Won't lemmatize at the moment because it doesn't take care of plurals\n",
    "## Could use later to see if it improves model"
   ]
  },
  {
   "cell_type": "code",
   "execution_count": 13,
   "metadata": {},
   "outputs": [],
   "source": [
    "## Train test set now\n",
    "\n",
    "x = cl['job_clean']\n",
    "y = cl['category']\n",
    "\n",
    "x_train, x_test, y_train, y_test = train_test_split(x, y, random_state=98,\n",
    "                                                   stratify=y)\n",
    "training_data = pd.DataFrame({'category': y_train,\n",
    "                              'jobtitle': x_train})"
   ]
  },
  {
   "cell_type": "markdown",
   "metadata": {},
   "source": [
    "## Create features"
   ]
  },
  {
   "cell_type": "markdown",
   "metadata": {},
   "source": [
    "### Bag of Words"
   ]
  },
  {
   "cell_type": "code",
   "execution_count": 14,
   "metadata": {},
   "outputs": [
    {
     "data": {
      "text/plain": [
       "['foodbeverage',\n",
       " 'labor',\n",
       " 'administrative',\n",
       " 'customerservice',\n",
       " 'education',\n",
       " 'accounting']"
      ]
     },
     "execution_count": 14,
     "metadata": {},
     "output_type": "execute_result"
    }
   ],
   "source": [
    "## Split into categories. Find the top 100 words for each category\n",
    "\n",
    "categories = list(y_train.unique())\n",
    "categories"
   ]
  },
  {
   "cell_type": "code",
   "execution_count": 15,
   "metadata": {},
   "outputs": [],
   "source": [
    "## Find most common words in each category\n",
    "\n",
    "common_words = []\n",
    "for cat in categories:\n",
    "    cat_words = []\n",
    "    cat = training_data.loc[training_data['category']==cat, ]\n",
    "    for row in cat.index:\n",
    "        for token in cat.loc[row, 'jobtitle']:\n",
    "            cat_words.append(token.lemma_)\n",
    "    cat_results = [item for item in Counter(cat_words).most_common(100)]\n",
    "    for word in cat_results:\n",
    "        common_words.append(word[0])\n",
    "\n",
    "unique_words = set(common_words)"
   ]
  },
  {
   "cell_type": "code",
   "execution_count": 16,
   "metadata": {},
   "outputs": [
    {
     "data": {
      "text/plain": [
       "344"
      ]
     },
     "execution_count": 16,
     "metadata": {},
     "output_type": "execute_result"
    }
   ],
   "source": [
    "len(unique_words)"
   ]
  },
  {
   "cell_type": "code",
   "execution_count": 17,
   "metadata": {},
   "outputs": [
    {
     "data": {
      "text/plain": [
       "False"
      ]
     },
     "execution_count": 17,
     "metadata": {},
     "output_type": "execute_result"
    }
   ],
   "source": [
    "'Bay' in unique_words"
   ]
  },
  {
   "cell_type": "code",
   "execution_count": 18,
   "metadata": {},
   "outputs": [
    {
     "data": {
      "text/html": [
       "<div>\n",
       "<style scoped>\n",
       "    .dataframe tbody tr th:only-of-type {\n",
       "        vertical-align: middle;\n",
       "    }\n",
       "\n",
       "    .dataframe tbody tr th {\n",
       "        vertical-align: top;\n",
       "    }\n",
       "\n",
       "    .dataframe thead th {\n",
       "        text-align: right;\n",
       "    }\n",
       "</style>\n",
       "<table border=\"1\" class=\"dataframe\">\n",
       "  <thead>\n",
       "    <tr style=\"text-align: right;\">\n",
       "      <th></th>\n",
       "      <th>category</th>\n",
       "      <th>jobtitle</th>\n",
       "    </tr>\n",
       "  </thead>\n",
       "  <tbody>\n",
       "    <tr>\n",
       "      <th>3120</th>\n",
       "      <td>foodbeverage</td>\n",
       "      <td>[peet, coffee, tea, hiring, retail, staff, ori...</td>\n",
       "    </tr>\n",
       "    <tr>\n",
       "      <th>7330</th>\n",
       "      <td>labor</td>\n",
       "      <td>[construction, laborer, $, 15/hr]</td>\n",
       "    </tr>\n",
       "    <tr>\n",
       "      <th>10059</th>\n",
       "      <td>administrative</td>\n",
       "      <td>[earn, learn]</td>\n",
       "    </tr>\n",
       "    <tr>\n",
       "      <th>2580</th>\n",
       "      <td>foodbeverage</td>\n",
       "      <td>[cook, food, service, worker]</td>\n",
       "    </tr>\n",
       "    <tr>\n",
       "      <th>3177</th>\n",
       "      <td>foodbeverage</td>\n",
       "      <td>[general, manager, food, facility, menlo, park...</td>\n",
       "    </tr>\n",
       "  </tbody>\n",
       "</table>\n",
       "</div>"
      ],
      "text/plain": [
       "             category                                           jobtitle\n",
       "3120     foodbeverage  [peet, coffee, tea, hiring, retail, staff, ori...\n",
       "7330            labor                  [construction, laborer, $, 15/hr]\n",
       "10059  administrative                                      [earn, learn]\n",
       "2580     foodbeverage                      [cook, food, service, worker]\n",
       "3177     foodbeverage  [general, manager, food, facility, menlo, park..."
      ]
     },
     "execution_count": 18,
     "metadata": {},
     "output_type": "execute_result"
    }
   ],
   "source": [
    "training_data.head()"
   ]
  },
  {
   "cell_type": "code",
   "execution_count": 19,
   "metadata": {},
   "outputs": [],
   "source": [
    "def create_bow(df):\n",
    "\n",
    "    start_time = time.process_time()\n",
    "    \n",
    "    df_bow = pd.DataFrame(columns=unique_words)\n",
    "    df_bow['jobtitle'] = training_data['jobtitle']\n",
    "    df_bow['category'] = training_data['category']\n",
    "\n",
    "    for row in df_bow.index:\n",
    "        jobwords = df_bow.loc[row, 'jobtitle']\n",
    "        jobwords_count = [item for item in Counter(jobwords).most_common()]\n",
    "        for word in jobwords_count:\n",
    "            if str(word[0]) in unique_words:\n",
    "                df_bow.loc[row, str(word[0])] = word[1]\n",
    "        if row % 50 == 0:\n",
    "            print('Processing row {}'.format(row))\n",
    "            print('Time taken: {}'.format(time.process_time() - start_time))\n",
    "    \n",
    "    return df_bow"
   ]
  },
  {
   "cell_type": "code",
   "execution_count": 20,
   "metadata": {
    "scrolled": true
   },
   "outputs": [
    {
     "name": "stdout",
     "output_type": "stream",
     "text": [
      "Processing row 2300\n",
      "Time taken: 2.8830930000000023\n",
      "Processing row 4700\n",
      "Time taken: 13.133588000000003\n",
      "Processing row 3650\n",
      "Time taken: 16.086872\n",
      "Processing row 11100\n",
      "Time taken: 21.948888999999994\n",
      "Processing row 2500\n",
      "Time taken: 37.04075399999999\n",
      "Processing row 10450\n",
      "Time taken: 48.67643100000001\n",
      "Processing row 9450\n",
      "Time taken: 64.177649\n",
      "Processing row 9000\n",
      "Time taken: 69.160292\n",
      "Processing row 2850\n",
      "Time taken: 77.360949\n",
      "Processing row 10200\n",
      "Time taken: 80.900185\n",
      "Processing row 7800\n",
      "Time taken: 82.08648600000001\n",
      "Processing row 5150\n",
      "Time taken: 84.836233\n",
      "Processing row 6650\n",
      "Time taken: 86.63709399999999\n",
      "Processing row 7600\n",
      "Time taken: 87.98988299999999\n",
      "Processing row 11450\n",
      "Time taken: 90.57564099999999\n",
      "Processing row 8950\n",
      "Time taken: 93.825839\n",
      "Processing row 2450\n",
      "Time taken: 101.233747\n",
      "Processing row 2250\n",
      "Time taken: 101.57480699999999\n",
      "Processing row 10400\n",
      "Time taken: 105.230444\n",
      "Processing row 3050\n",
      "Time taken: 109.26368400000001\n",
      "Processing row 2600\n",
      "Time taken: 118.124606\n",
      "Processing row 10300\n",
      "Time taken: 126.41390999999999\n",
      "Processing row 7150\n",
      "Time taken: 150.420926\n",
      "Processing row 11200\n",
      "Time taken: 157.325604\n",
      "Processing row 12400\n",
      "Time taken: 162.255935\n",
      "Processing row 13350\n",
      "Time taken: 168.993598\n",
      "Processing row 11300\n",
      "Time taken: 170.99538199999998\n",
      "Processing row 13150\n",
      "Time taken: 171.97745799999998\n",
      "Processing row 6350\n",
      "Time taken: 198.37461599999997\n",
      "Processing row 1700\n",
      "Time taken: 205.68695599999998\n",
      "Processing row 4650\n",
      "Time taken: 211.12216300000003\n",
      "Processing row 4750\n",
      "Time taken: 219.036466\n",
      "Processing row 11400\n",
      "Time taken: 219.462835\n",
      "Processing row 13500\n",
      "Time taken: 221.26960499999998\n",
      "Processing row 12150\n",
      "Time taken: 221.395884\n",
      "Processing row 7450\n",
      "Time taken: 223.353978\n",
      "Processing row 13650\n",
      "Time taken: 224.355015\n",
      "Processing row 500\n",
      "Time taken: 241.20436400000003\n",
      "Processing row 3000\n",
      "Time taken: 251.387709\n",
      "Processing row 5900\n",
      "Time taken: 251.891584\n",
      "Processing row 4150\n",
      "Time taken: 256.460416\n",
      "Processing row 9750\n",
      "Time taken: 261.60038499999996\n",
      "Processing row 6400\n",
      "Time taken: 279.898683\n",
      "Processing row 12550\n",
      "Time taken: 281.910439\n",
      "Processing row 10350\n",
      "Time taken: 283.362943\n",
      "Processing row 9100\n",
      "Time taken: 290.18035299999997\n",
      "Processing row 2150\n",
      "Time taken: 293.77036\n",
      "Processing row 6500\n",
      "Time taken: 299.639581\n",
      "Processing row 800\n",
      "Time taken: 299.687322\n",
      "Processing row 9250\n",
      "Time taken: 301.987121\n",
      "Processing row 950\n",
      "Time taken: 304.32980899999995\n",
      "Processing row 2700\n",
      "Time taken: 307.169801\n",
      "Processing row 10550\n",
      "Time taken: 308.60688200000004\n",
      "Processing row 3550\n",
      "Time taken: 312.427718\n",
      "Processing row 5250\n",
      "Time taken: 313.276429\n",
      "Processing row 3100\n",
      "Time taken: 320.86636899999996\n",
      "Processing row 5950\n",
      "Time taken: 339.171744\n",
      "Processing row 9400\n",
      "Time taken: 345.85972300000003\n",
      "Processing row 700\n",
      "Time taken: 351.893859\n",
      "Processing row 10150\n",
      "Time taken: 365.76153999999997\n",
      "Processing row 7650\n",
      "Time taken: 367.444979\n",
      "Processing row 7400\n",
      "Time taken: 374.77677600000004\n",
      "Processing row 4200\n",
      "Time taken: 377.46005\n",
      "Processing row 7100\n",
      "Time taken: 388.31800899999996\n",
      "Processing row 6050\n",
      "Time taken: 394.430161\n",
      "Processing row 5200\n",
      "Time taken: 404.64826800000003\n",
      "Processing row 11050\n",
      "Time taken: 408.139862\n",
      "Processing row 5400\n",
      "Time taken: 414.39206\n",
      "Processing row 6150\n",
      "Time taken: 419.69017500000007\n",
      "Processing row 7700\n",
      "Time taken: 419.863296\n",
      "Processing row 6800\n",
      "Time taken: 429.497883\n",
      "Processing row 2800\n",
      "Time taken: 434.13524900000004\n",
      "Processing row 1050\n",
      "Time taken: 436.0875970000001\n",
      "Processing row 10900\n",
      "Time taken: 438.59424\n",
      "Processing row 4950\n",
      "Time taken: 445.024727\n",
      "Processing row 13100\n",
      "Time taken: 469.08621800000003\n",
      "Processing row 5050\n",
      "Time taken: 469.927996\n",
      "Processing row 13450\n",
      "Time taken: 480.62366900000006\n",
      "Processing row 8150\n",
      "Time taken: 497.588848\n",
      "Processing row 9650\n",
      "Time taken: 506.27933600000006\n",
      "Processing row 9150\n",
      "Time taken: 506.321675\n",
      "Processing row 8900\n",
      "Time taken: 515.7846030000001\n",
      "Processing row 3800\n",
      "Time taken: 518.492748\n",
      "Processing row 4800\n",
      "Time taken: 521.680121\n",
      "Processing row 11550\n",
      "Time taken: 524.792858\n",
      "Processing row 9800\n",
      "Time taken: 531.126492\n",
      "Processing row 12650\n",
      "Time taken: 533.171333\n",
      "Processing row 450\n",
      "Time taken: 539.105435\n",
      "Processing row 250\n",
      "Time taken: 540.681283\n",
      "Processing row 2650\n",
      "Time taken: 540.7805060000001\n",
      "Processing row 300\n",
      "Time taken: 545.542139\n",
      "Processing row 6250\n",
      "Time taken: 551.208629\n",
      "Processing row 10950\n",
      "Time taken: 556.7413250000001\n",
      "Processing row 2400\n",
      "Time taken: 560.591227\n",
      "Processing row 5700\n",
      "Time taken: 561.980843\n",
      "Processing row 8800\n",
      "Time taken: 567.671635\n",
      "Processing row 2750\n",
      "Time taken: 569.872576\n",
      "Processing row 7850\n",
      "Time taken: 572.796496\n",
      "Processing row 600\n",
      "Time taken: 576.729418\n",
      "Processing row 850\n",
      "Time taken: 581.000455\n",
      "Processing row 1850\n",
      "Time taken: 581.562764\n",
      "Processing row 8600\n",
      "Time taken: 583.445545\n",
      "Processing row 9700\n",
      "Time taken: 589.9725040000001\n",
      "Processing row 9500\n",
      "Time taken: 590.866534\n",
      "Processing row 8300\n",
      "Time taken: 593.12854\n",
      "Processing row 1950\n",
      "Time taken: 596.48743\n",
      "Processing row 12850\n",
      "Time taken: 597.97893\n",
      "Processing row 7900\n",
      "Time taken: 598.103751\n",
      "Processing row 1800\n",
      "Time taken: 599.9815070000001\n",
      "Processing row 150\n",
      "Time taken: 605.076689\n",
      "Processing row 5300\n",
      "Time taken: 608.74631\n",
      "Processing row 9200\n",
      "Time taken: 611.792966\n",
      "Processing row 6950\n",
      "Time taken: 621.621134\n",
      "Processing row 2000\n",
      "Time taken: 623.394232\n",
      "Processing row 1650\n",
      "Time taken: 634.588034\n",
      "Processing row 3600\n",
      "Time taken: 650.696806\n",
      "Processing row 1000\n",
      "Time taken: 651.045468\n",
      "Processing row 4100\n",
      "Time taken: 652.318892\n",
      "Processing row 11500\n",
      "Time taken: 660.2294360000001\n",
      "Processing row 12800\n",
      "Time taken: 660.442393\n",
      "Processing row 3850\n",
      "Time taken: 661.712387\n",
      "Processing row 100\n",
      "Time taken: 664.0548570000001\n",
      "Processing row 350\n",
      "Time taken: 664.935289\n",
      "Processing row 6000\n",
      "Time taken: 670.975771\n",
      "Processing row 1900\n",
      "Time taken: 672.611807\n",
      "Processing row 11600\n",
      "Time taken: 704.6009700000001\n",
      "Processing row 13800\n",
      "Time taken: 708.194917\n",
      "Processing row 11700\n",
      "Time taken: 708.949054\n",
      "Processing row 12050\n",
      "Time taken: 713.439069\n",
      "Processing row 2900\n",
      "Time taken: 713.8592590000001\n",
      "Processing row 10100\n",
      "Time taken: 714.8584920000001\n",
      "Processing row 3400\n",
      "Time taken: 716.521756\n",
      "Processing row 4900\n",
      "Time taken: 721.1665340000001\n",
      "Processing row 200\n",
      "Time taken: 721.757904\n",
      "Processing row 400\n",
      "Time taken: 723.232805\n",
      "Processing row 11250\n",
      "Time taken: 729.511161\n",
      "Processing row 12000\n",
      "Time taken: 731.387594\n",
      "Processing row 10050\n",
      "Time taken: 735.987529\n",
      "Processing row 5550\n",
      "Time taken: 740.3138190000001\n",
      "Processing row 6100\n",
      "Time taken: 745.228789\n",
      "Processing row 2050\n",
      "Time taken: 746.32901\n",
      "Processing row 0\n",
      "Time taken: 747.311066\n",
      "Processing row 13700\n",
      "Time taken: 763.091755\n",
      "Processing row 4500\n",
      "Time taken: 778.1153800000001\n",
      "Processing row 12600\n",
      "Time taken: 790.664677\n",
      "Processing row 12200\n",
      "Time taken: 796.239648\n",
      "Processing row 11000\n",
      "Time taken: 801.224236\n",
      "Processing row 11350\n",
      "Time taken: 813.515379\n",
      "Processing row 3950\n",
      "Time taken: 820.7375490000001\n",
      "Processing row 3450\n",
      "Time taken: 826.603525\n",
      "Processing row 12250\n",
      "Time taken: 828.648449\n",
      "Processing row 12500\n",
      "Time taken: 828.735274\n",
      "Processing row 12450\n",
      "Time taken: 831.990346\n",
      "Processing row 8850\n",
      "Time taken: 837.314658\n",
      "Processing row 11950\n",
      "Time taken: 851.205594\n",
      "Processing row 6550\n",
      "Time taken: 851.84259\n",
      "Processing row 3300\n",
      "Time taken: 860.910237\n",
      "Processing row 4550\n",
      "Time taken: 871.754691\n",
      "Processing row 6450\n",
      "Time taken: 877.906831\n",
      "Processing row 5500\n",
      "Time taken: 882.907689\n",
      "Processing row 9300\n",
      "Time taken: 893.0361720000001\n",
      "Processing row 10650\n",
      "Time taken: 899.2859970000001\n",
      "Processing row 8700\n",
      "Time taken: 906.813479\n",
      "Processing row 8400\n",
      "Time taken: 909.859315\n",
      "Processing row 7350\n",
      "Time taken: 919.5111410000001\n",
      "Processing row 8100\n",
      "Time taken: 934.7896460000001\n",
      "Processing row 13400\n",
      "Time taken: 941.030762\n",
      "Processing row 650\n",
      "Time taken: 948.743312\n",
      "Processing row 3200\n",
      "Time taken: 960.0010040000001\n",
      "Processing row 9950\n",
      "Time taken: 961.8751800000001\n",
      "Processing row 8250\n",
      "Time taken: 963.5702769999999\n",
      "Processing row 2200\n",
      "Time taken: 970.97094\n",
      "Processing row 9050\n",
      "Time taken: 972.018641\n",
      "Processing row 6750\n",
      "Time taken: 978.197266\n",
      "Processing row 3700\n",
      "Time taken: 984.9648720000001\n",
      "Processing row 1400\n",
      "Time taken: 989.378761\n",
      "Processing row 1200\n",
      "Time taken: 991.966094\n",
      "Processing row 12750\n",
      "Time taken: 1001.7325480000001\n",
      "Processing row 10800\n",
      "Time taken: 1003.8599780000001\n",
      "Processing row 12100\n",
      "Time taken: 1004.551178\n"
     ]
    },
    {
     "name": "stdout",
     "output_type": "stream",
     "text": [
      "Processing row 10700\n",
      "Time taken: 1017.8809239999999\n",
      "Processing row 4400\n",
      "Time taken: 1023.010789\n",
      "Processing row 12900\n",
      "Time taken: 1026.904438\n",
      "Processing row 12350\n",
      "Time taken: 1028.900512\n",
      "Processing row 1350\n",
      "Time taken: 1029.0185239999998\n",
      "Processing row 9600\n",
      "Time taken: 1029.6770849999998\n",
      "Processing row 11150\n",
      "Time taken: 1049.3919489999998\n",
      "Processing row 8200\n",
      "Time taken: 1052.95159\n",
      "Processing row 13050\n",
      "Time taken: 1058.0432549999998\n",
      "Processing row 5600\n",
      "Time taken: 1060.972603\n",
      "Processing row 1550\n",
      "Time taken: 1069.6726879999999\n",
      "Processing row 8450\n",
      "Time taken: 1072.514539\n",
      "Processing row 13000\n",
      "Time taken: 1079.1257719999999\n",
      "Processing row 7550\n",
      "Time taken: 1081.297366\n",
      "Processing row 9350\n",
      "Time taken: 1082.349317\n",
      "Processing row 10600\n",
      "Time taken: 1086.5033899999999\n",
      "Processing row 4850\n",
      "Time taken: 1088.181398\n",
      "Processing row 5750\n",
      "Time taken: 1088.686231\n",
      "Processing row 11900\n",
      "Time taken: 1091.3630449999998\n",
      "Processing row 13550\n",
      "Time taken: 1093.8458449999998\n",
      "Processing row 7050\n",
      "Time taken: 1099.8800059999999\n",
      "Processing row 1100\n",
      "Time taken: 1106.9553799999999\n",
      "Processing row 7750\n",
      "Time taken: 1116.80331\n",
      "Processing row 4300\n",
      "Time taken: 1121.5995859999998\n",
      "Processing row 2550\n",
      "Time taken: 1124.688905\n",
      "Processing row 5850\n",
      "Time taken: 1129.9144629999998\n",
      "Processing row 13200\n",
      "Time taken: 1134.641369\n",
      "Processing row 5800\n",
      "Time taken: 1136.699245\n",
      "Processing row 1600\n",
      "Time taken: 1143.449958\n",
      "Processing row 5650\n",
      "Time taken: 1153.8757759999999\n",
      "Processing row 1150\n",
      "Time taken: 1155.549521\n",
      "Processing row 11800\n",
      "Time taken: 1165.7488939999998\n",
      "Processing row 3750\n",
      "Time taken: 1168.031734\n",
      "Processing row 13600\n",
      "Time taken: 1197.424933\n",
      "Processing row 8000\n",
      "Time taken: 1197.90089\n",
      "Processing row 1750\n",
      "Time taken: 1199.6601719999999\n",
      "Processing row 7950\n",
      "Time taken: 1202.403674\n",
      "Processing row 4000\n",
      "Time taken: 1206.634177\n",
      "Processing row 6300\n",
      "Time taken: 1213.735493\n"
     ]
    }
   ],
   "source": [
    "x_train_bow = create_bow(training_data)"
   ]
  },
  {
   "cell_type": "code",
   "execution_count": 21,
   "metadata": {},
   "outputs": [
    {
     "data": {
      "text/plain": [
       "1"
      ]
     },
     "execution_count": 21,
     "metadata": {},
     "output_type": "execute_result"
    }
   ],
   "source": [
    "x_train_bow.loc[0, 'school'] ## Should be 1"
   ]
  },
  {
   "cell_type": "code",
   "execution_count": 22,
   "metadata": {},
   "outputs": [
    {
     "data": {
      "text/plain": [
       "(10383, 346)"
      ]
     },
     "execution_count": 22,
     "metadata": {},
     "output_type": "execute_result"
    }
   ],
   "source": [
    "x_train_bow.shape"
   ]
  },
  {
   "cell_type": "code",
   "execution_count": 23,
   "metadata": {},
   "outputs": [
    {
     "data": {
      "text/html": [
       "<div>\n",
       "<style scoped>\n",
       "    .dataframe tbody tr th:only-of-type {\n",
       "        vertical-align: middle;\n",
       "    }\n",
       "\n",
       "    .dataframe tbody tr th {\n",
       "        vertical-align: top;\n",
       "    }\n",
       "\n",
       "    .dataframe thead th {\n",
       "        text-align: right;\n",
       "    }\n",
       "</style>\n",
       "<table border=\"1\" class=\"dataframe\">\n",
       "  <thead>\n",
       "    <tr style=\"text-align: right;\">\n",
       "      <th></th>\n",
       "      <th>event</th>\n",
       "      <th>teacher</th>\n",
       "      <th>planning</th>\n",
       "      <th>exp</th>\n",
       "      <th>driver!</th>\n",
       "      <th>require</th>\n",
       "      <th></th>\n",
       "      <th>insurance</th>\n",
       "      <th>clean</th>\n",
       "      <th>dining</th>\n",
       "      <th>...</th>\n",
       "      <th>ar</th>\n",
       "      <th>jose</th>\n",
       "      <th>resource</th>\n",
       "      <th>accounting</th>\n",
       "      <th>behavioral</th>\n",
       "      <th>housekeeper</th>\n",
       "      <th>executive</th>\n",
       "      <th>design</th>\n",
       "      <th>jobtitle</th>\n",
       "      <th>category</th>\n",
       "    </tr>\n",
       "  </thead>\n",
       "  <tbody>\n",
       "    <tr>\n",
       "      <th>3120</th>\n",
       "      <td>NaN</td>\n",
       "      <td>NaN</td>\n",
       "      <td>NaN</td>\n",
       "      <td>NaN</td>\n",
       "      <td>NaN</td>\n",
       "      <td>NaN</td>\n",
       "      <td>NaN</td>\n",
       "      <td>NaN</td>\n",
       "      <td>NaN</td>\n",
       "      <td>NaN</td>\n",
       "      <td>...</td>\n",
       "      <td>NaN</td>\n",
       "      <td>NaN</td>\n",
       "      <td>NaN</td>\n",
       "      <td>NaN</td>\n",
       "      <td>NaN</td>\n",
       "      <td>NaN</td>\n",
       "      <td>NaN</td>\n",
       "      <td>NaN</td>\n",
       "      <td>[peet, coffee, tea, hiring, retail, staff, ori...</td>\n",
       "      <td>foodbeverage</td>\n",
       "    </tr>\n",
       "    <tr>\n",
       "      <th>7330</th>\n",
       "      <td>NaN</td>\n",
       "      <td>NaN</td>\n",
       "      <td>NaN</td>\n",
       "      <td>NaN</td>\n",
       "      <td>NaN</td>\n",
       "      <td>NaN</td>\n",
       "      <td>NaN</td>\n",
       "      <td>NaN</td>\n",
       "      <td>NaN</td>\n",
       "      <td>NaN</td>\n",
       "      <td>...</td>\n",
       "      <td>NaN</td>\n",
       "      <td>NaN</td>\n",
       "      <td>NaN</td>\n",
       "      <td>NaN</td>\n",
       "      <td>NaN</td>\n",
       "      <td>NaN</td>\n",
       "      <td>NaN</td>\n",
       "      <td>NaN</td>\n",
       "      <td>[construction, laborer, $, 15/hr]</td>\n",
       "      <td>labor</td>\n",
       "    </tr>\n",
       "    <tr>\n",
       "      <th>10059</th>\n",
       "      <td>NaN</td>\n",
       "      <td>NaN</td>\n",
       "      <td>NaN</td>\n",
       "      <td>NaN</td>\n",
       "      <td>NaN</td>\n",
       "      <td>NaN</td>\n",
       "      <td>NaN</td>\n",
       "      <td>NaN</td>\n",
       "      <td>NaN</td>\n",
       "      <td>NaN</td>\n",
       "      <td>...</td>\n",
       "      <td>NaN</td>\n",
       "      <td>NaN</td>\n",
       "      <td>NaN</td>\n",
       "      <td>NaN</td>\n",
       "      <td>NaN</td>\n",
       "      <td>NaN</td>\n",
       "      <td>NaN</td>\n",
       "      <td>NaN</td>\n",
       "      <td>[earn, learn]</td>\n",
       "      <td>administrative</td>\n",
       "    </tr>\n",
       "    <tr>\n",
       "      <th>2580</th>\n",
       "      <td>NaN</td>\n",
       "      <td>NaN</td>\n",
       "      <td>NaN</td>\n",
       "      <td>NaN</td>\n",
       "      <td>NaN</td>\n",
       "      <td>NaN</td>\n",
       "      <td>NaN</td>\n",
       "      <td>NaN</td>\n",
       "      <td>NaN</td>\n",
       "      <td>NaN</td>\n",
       "      <td>...</td>\n",
       "      <td>NaN</td>\n",
       "      <td>NaN</td>\n",
       "      <td>NaN</td>\n",
       "      <td>NaN</td>\n",
       "      <td>NaN</td>\n",
       "      <td>NaN</td>\n",
       "      <td>NaN</td>\n",
       "      <td>NaN</td>\n",
       "      <td>[cook, food, service, worker]</td>\n",
       "      <td>foodbeverage</td>\n",
       "    </tr>\n",
       "    <tr>\n",
       "      <th>3177</th>\n",
       "      <td>NaN</td>\n",
       "      <td>NaN</td>\n",
       "      <td>NaN</td>\n",
       "      <td>NaN</td>\n",
       "      <td>NaN</td>\n",
       "      <td>NaN</td>\n",
       "      <td>NaN</td>\n",
       "      <td>NaN</td>\n",
       "      <td>NaN</td>\n",
       "      <td>NaN</td>\n",
       "      <td>...</td>\n",
       "      <td>NaN</td>\n",
       "      <td>NaN</td>\n",
       "      <td>NaN</td>\n",
       "      <td>NaN</td>\n",
       "      <td>NaN</td>\n",
       "      <td>NaN</td>\n",
       "      <td>NaN</td>\n",
       "      <td>NaN</td>\n",
       "      <td>[general, manager, food, facility, menlo, park...</td>\n",
       "      <td>foodbeverage</td>\n",
       "    </tr>\n",
       "  </tbody>\n",
       "</table>\n",
       "<p>5 rows × 346 columns</p>\n",
       "</div>"
      ],
      "text/plain": [
       "      event teacher planning  exp driver! require     insurance clean  \\\n",
       "3120    NaN     NaN      NaN  NaN      NaN     NaN  NaN       NaN   NaN   \n",
       "7330    NaN     NaN      NaN  NaN      NaN     NaN  NaN       NaN   NaN   \n",
       "10059   NaN     NaN      NaN  NaN      NaN     NaN  NaN       NaN   NaN   \n",
       "2580    NaN     NaN      NaN  NaN      NaN     NaN  NaN       NaN   NaN   \n",
       "3177    NaN     NaN      NaN  NaN      NaN     NaN  NaN       NaN   NaN   \n",
       "\n",
       "      dining  ...   ar jose resource accounting behavioral housekeeper  \\\n",
       "3120     NaN  ...  NaN  NaN      NaN        NaN        NaN         NaN   \n",
       "7330     NaN  ...  NaN  NaN      NaN        NaN        NaN         NaN   \n",
       "10059    NaN  ...  NaN  NaN      NaN        NaN        NaN         NaN   \n",
       "2580     NaN  ...  NaN  NaN      NaN        NaN        NaN         NaN   \n",
       "3177     NaN  ...  NaN  NaN      NaN        NaN        NaN         NaN   \n",
       "\n",
       "      executive design                                           jobtitle  \\\n",
       "3120        NaN    NaN  [peet, coffee, tea, hiring, retail, staff, ori...   \n",
       "7330        NaN    NaN                  [construction, laborer, $, 15/hr]   \n",
       "10059       NaN    NaN                                      [earn, learn]   \n",
       "2580        NaN    NaN                      [cook, food, service, worker]   \n",
       "3177        NaN    NaN  [general, manager, food, facility, menlo, park...   \n",
       "\n",
       "             category  \n",
       "3120     foodbeverage  \n",
       "7330            labor  \n",
       "10059  administrative  \n",
       "2580     foodbeverage  \n",
       "3177     foodbeverage  \n",
       "\n",
       "[5 rows x 346 columns]"
      ]
     },
     "execution_count": 23,
     "metadata": {},
     "output_type": "execute_result"
    }
   ],
   "source": [
    "x_train_bow.head()"
   ]
  },
  {
   "cell_type": "code",
   "execution_count": 24,
   "metadata": {},
   "outputs": [],
   "source": [
    "x_train_bow.drop(['jobtitle', 'category'], axis=1, inplace=True)"
   ]
  },
  {
   "cell_type": "code",
   "execution_count": 30,
   "metadata": {},
   "outputs": [],
   "source": [
    "x_train_bow.fillna(value=0, inplace=True)"
   ]
  },
  {
   "cell_type": "markdown",
   "metadata": {},
   "source": [
    "### tf-idf"
   ]
  },
  {
   "cell_type": "code",
   "execution_count": 31,
   "metadata": {},
   "outputs": [],
   "source": [
    "## Need data in strings not tokens\n",
    "\n",
    "x_str = cl['jobtitle']\n",
    "y_str = cl['category']\n",
    "\n",
    "x_train_str, x_test_str, y_train_str, y_test_str = train_test_split(x_str, y_str, random_state=98,\n",
    "                                                   stratify=y_str)"
   ]
  },
  {
   "cell_type": "code",
   "execution_count": 32,
   "metadata": {},
   "outputs": [],
   "source": [
    "vectorizer = TfidfVectorizer(max_df = 0.9,\n",
    "                            min_df = 10,\n",
    "                            stop_words='english',\n",
    "                            use_idf=True,\n",
    "                             lowercase=True,\n",
    "                            norm=u'l2',\n",
    "                            smooth_idf=True)"
   ]
  },
  {
   "cell_type": "code",
   "execution_count": 33,
   "metadata": {},
   "outputs": [
    {
     "data": {
      "text/plain": [
       "'After School Supervisor'"
      ]
     },
     "execution_count": 33,
     "metadata": {},
     "output_type": "execute_result"
    }
   ],
   "source": [
    "x_train_str[0]"
   ]
  },
  {
   "cell_type": "code",
   "execution_count": 34,
   "metadata": {},
   "outputs": [
    {
     "name": "stdout",
     "output_type": "stream",
     "text": [
      "Number of features: 726\n"
     ]
    }
   ],
   "source": [
    "x_train_tfidf = vectorizer.fit_transform(x_train_str)\n",
    "print('Number of features: {}'.format(x_train_tfidf.get_shape()[1]))"
   ]
  },
  {
   "cell_type": "markdown",
   "metadata": {},
   "source": [
    "## Fit supervised learning models"
   ]
  },
  {
   "cell_type": "markdown",
   "metadata": {},
   "source": [
    "### BoW model"
   ]
  },
  {
   "cell_type": "code",
   "execution_count": 35,
   "metadata": {},
   "outputs": [
    {
     "name": "stderr",
     "output_type": "stream",
     "text": [
      "/usr/local/lib/python3.7/site-packages/sklearn/linear_model/logistic.py:433: FutureWarning: Default solver will be changed to 'lbfgs' in 0.22. Specify a solver to silence this warning.\n",
      "  FutureWarning)\n",
      "/usr/local/lib/python3.7/site-packages/sklearn/linear_model/logistic.py:460: FutureWarning: Default multi_class will be changed to 'auto' in 0.22. Specify the multi_class option to silence this warning.\n",
      "  \"this warning.\", FutureWarning)\n",
      "/usr/local/lib/python3.7/site-packages/sklearn/linear_model/logistic.py:433: FutureWarning: Default solver will be changed to 'lbfgs' in 0.22. Specify a solver to silence this warning.\n",
      "  FutureWarning)\n",
      "/usr/local/lib/python3.7/site-packages/sklearn/linear_model/logistic.py:460: FutureWarning: Default multi_class will be changed to 'auto' in 0.22. Specify the multi_class option to silence this warning.\n",
      "  \"this warning.\", FutureWarning)\n",
      "/usr/local/lib/python3.7/site-packages/sklearn/linear_model/logistic.py:433: FutureWarning: Default solver will be changed to 'lbfgs' in 0.22. Specify a solver to silence this warning.\n",
      "  FutureWarning)\n",
      "/usr/local/lib/python3.7/site-packages/sklearn/linear_model/logistic.py:460: FutureWarning: Default multi_class will be changed to 'auto' in 0.22. Specify the multi_class option to silence this warning.\n",
      "  \"this warning.\", FutureWarning)\n",
      "/usr/local/lib/python3.7/site-packages/sklearn/linear_model/logistic.py:433: FutureWarning: Default solver will be changed to 'lbfgs' in 0.22. Specify a solver to silence this warning.\n",
      "  FutureWarning)\n",
      "/usr/local/lib/python3.7/site-packages/sklearn/linear_model/logistic.py:460: FutureWarning: Default multi_class will be changed to 'auto' in 0.22. Specify the multi_class option to silence this warning.\n",
      "  \"this warning.\", FutureWarning)\n",
      "/usr/local/lib/python3.7/site-packages/sklearn/linear_model/logistic.py:433: FutureWarning: Default solver will be changed to 'lbfgs' in 0.22. Specify a solver to silence this warning.\n",
      "  FutureWarning)\n",
      "/usr/local/lib/python3.7/site-packages/sklearn/linear_model/logistic.py:460: FutureWarning: Default multi_class will be changed to 'auto' in 0.22. Specify the multi_class option to silence this warning.\n",
      "  \"this warning.\", FutureWarning)\n"
     ]
    },
    {
     "name": "stdout",
     "output_type": "stream",
     "text": [
      "Logistic Regression scores: [0.75842156 0.75589793 0.74337987 0.7504817  0.74987952]\n"
     ]
    }
   ],
   "source": [
    "## Logistic regression\n",
    "\n",
    "lr1_bow = LogisticRegression(penalty='l2', random_state=98)\n",
    "\n",
    "lr1_scores_bow = cross_val_score(lr1_bow, x_train_bow, y_train, cv=5)\n",
    "\n",
    "print('Logistic Regression scores:', lr1_scores_bow)"
   ]
  },
  {
   "cell_type": "code",
   "execution_count": 36,
   "metadata": {},
   "outputs": [
    {
     "name": "stdout",
     "output_type": "stream",
     "text": [
      "SVM scores: [0.74879692 0.75108329 0.73760231 0.74132948 0.75084337]\n"
     ]
    }
   ],
   "source": [
    "## SVM\n",
    "\n",
    "svm1_bow = SVC(kernel='linear', random_state=98)\n",
    "\n",
    "svm1_scores_bow = cross_val_score(svm1_bow, x_train_bow, y_train, cv=5)\n",
    "\n",
    "print('SVM scores:', svm1_scores_bow)"
   ]
  },
  {
   "cell_type": "code",
   "execution_count": 40,
   "metadata": {},
   "outputs": [],
   "source": [
    "## Both models performed similarly."
   ]
  },
  {
   "cell_type": "markdown",
   "metadata": {},
   "source": [
    "### tf-idf model"
   ]
  },
  {
   "cell_type": "code",
   "execution_count": 37,
   "metadata": {},
   "outputs": [
    {
     "name": "stderr",
     "output_type": "stream",
     "text": [
      "/usr/local/lib/python3.7/site-packages/sklearn/linear_model/logistic.py:433: FutureWarning: Default solver will be changed to 'lbfgs' in 0.22. Specify a solver to silence this warning.\n",
      "  FutureWarning)\n",
      "/usr/local/lib/python3.7/site-packages/sklearn/linear_model/logistic.py:460: FutureWarning: Default multi_class will be changed to 'auto' in 0.22. Specify the multi_class option to silence this warning.\n",
      "  \"this warning.\", FutureWarning)\n"
     ]
    },
    {
     "name": "stdout",
     "output_type": "stream",
     "text": [
      "Logistic Regression scores: [0.81183831 0.80548869 0.80115551 0.81069364 0.80674699]\n"
     ]
    }
   ],
   "source": [
    "## Logistic regression\n",
    "\n",
    "lr1_tfidf = LogisticRegression(penalty='l2', random_state=98)\n",
    "\n",
    "lr1_scores_tfidf = cross_val_score(lr1_tfidf, x_train_tfidf, y_train_str, cv=5)\n",
    "\n",
    "print('Logistic Regression scores:', lr1_scores_tfidf)"
   ]
  },
  {
   "cell_type": "code",
   "execution_count": 38,
   "metadata": {},
   "outputs": [
    {
     "name": "stdout",
     "output_type": "stream",
     "text": [
      "SVM scores: [0.80943215 0.80308137 0.80308137 0.80202312 0.80481928]\n"
     ]
    }
   ],
   "source": [
    "## SVM\n",
    "\n",
    "svm1_tfidf = SVC(kernel='linear', random_state=98)\n",
    "\n",
    "svm1_scores_tfidf = cross_val_score(svm1_tfidf, x_train_tfidf, y_train, cv=5)\n",
    "\n",
    "print('SVM scores:', svm1_scores_tfidf)"
   ]
  },
  {
   "cell_type": "code",
   "execution_count": 41,
   "metadata": {},
   "outputs": [],
   "source": [
    "## Both models performed similarly again, though tf-idf appears to be\n",
    "## better than bag of words by around 5%."
   ]
  },
  {
   "cell_type": "markdown",
   "metadata": {},
   "source": [
    "## Improving tf-idf"
   ]
  },
  {
   "cell_type": "code",
   "execution_count": 42,
   "metadata": {},
   "outputs": [],
   "source": [
    "## Tweak some hyperparameters\n",
    "\n",
    "vectorizer2 = TfidfVectorizer(max_df = 0.6, ## Ignore more regularly appearing words\n",
    "                            min_df = 5, ## Lower threshold for inclusion\n",
    "                            stop_words=None, ## Remove stopwords as less important when not whole sentences\n",
    "                            use_idf=True,\n",
    "                             lowercase=True,\n",
    "                            norm=u'l2',\n",
    "                            smooth_idf=True)"
   ]
  },
  {
   "cell_type": "code",
   "execution_count": 43,
   "metadata": {},
   "outputs": [
    {
     "name": "stdout",
     "output_type": "stream",
     "text": [
      "Number of features: 1272\n"
     ]
    }
   ],
   "source": [
    "x_train_tfidf2 = vectorizer2.fit_transform(x_train_str)\n",
    "print('Number of features: {}'.format(x_train_tfidf2.get_shape()[1]))"
   ]
  },
  {
   "cell_type": "code",
   "execution_count": 44,
   "metadata": {},
   "outputs": [],
   "source": [
    "## Almost double number of features"
   ]
  },
  {
   "cell_type": "code",
   "execution_count": 45,
   "metadata": {},
   "outputs": [
    {
     "name": "stderr",
     "output_type": "stream",
     "text": [
      "/usr/local/lib/python3.7/site-packages/sklearn/linear_model/logistic.py:433: FutureWarning: Default solver will be changed to 'lbfgs' in 0.22. Specify a solver to silence this warning.\n",
      "  FutureWarning)\n",
      "/usr/local/lib/python3.7/site-packages/sklearn/linear_model/logistic.py:460: FutureWarning: Default multi_class will be changed to 'auto' in 0.22. Specify the multi_class option to silence this warning.\n",
      "  \"this warning.\", FutureWarning)\n"
     ]
    },
    {
     "name": "stdout",
     "output_type": "stream",
     "text": [
      "Logistic Regression scores: [0.81953802 0.81608089 0.82426577 0.8155106  0.81831325]\n"
     ]
    }
   ],
   "source": [
    "## Logistic regression\n",
    "\n",
    "lr2_tfidf = LogisticRegression(penalty='l2', random_state=98)\n",
    "\n",
    "lr2_scores_tfidf = cross_val_score(lr2_tfidf, x_train_tfidf2, y_train_str, cv=5)\n",
    "\n",
    "print('Logistic Regression scores:', lr2_scores_tfidf)"
   ]
  },
  {
   "cell_type": "code",
   "execution_count": 48,
   "metadata": {},
   "outputs": [],
   "source": [
    "## Improved by maybe 2% points"
   ]
  },
  {
   "cell_type": "code",
   "execution_count": 47,
   "metadata": {},
   "outputs": [
    {
     "name": "stdout",
     "output_type": "stream",
     "text": [
      "SVM scores: [0.81713186 0.81656235 0.81415503 0.82418112 0.81060241]\n"
     ]
    }
   ],
   "source": [
    "## SVM\n",
    "\n",
    "svm2_tfidf = SVC(kernel='linear', random_state=98)\n",
    "\n",
    "svm2_scores_tfidf = cross_val_score(svm2_tfidf, x_train_tfidf2, y_train, cv=5)\n",
    "\n",
    "print('SVM scores:', svm2_scores_tfidf)"
   ]
  },
  {
   "cell_type": "code",
   "execution_count": 49,
   "metadata": {},
   "outputs": [],
   "source": [
    "## Again improved by 1-2% points"
   ]
  },
  {
   "cell_type": "code",
   "execution_count": 50,
   "metadata": {},
   "outputs": [],
   "source": [
    "## Try grid searching for best hyperparameters"
   ]
  },
  {
   "cell_type": "code",
   "execution_count": 53,
   "metadata": {},
   "outputs": [
    {
     "name": "stderr",
     "output_type": "stream",
     "text": [
      "/usr/local/lib/python3.7/site-packages/sklearn/linear_model/logistic.py:433: FutureWarning: Default solver will be changed to 'lbfgs' in 0.22. Specify a solver to silence this warning.\n",
      "  FutureWarning)\n",
      "/usr/local/lib/python3.7/site-packages/sklearn/linear_model/logistic.py:460: FutureWarning: Default multi_class will be changed to 'auto' in 0.22. Specify the multi_class option to silence this warning.\n",
      "  \"this warning.\", FutureWarning)\n"
     ]
    }
   ],
   "source": [
    "## Logistic regression gridsearch\n",
    "\n",
    "lr_params = {'C': [0.01, 0.1, 1, 10, 100], \n",
    "             'tol': [0.00001, 0.00005, 0.0001, 0.0005, 0.001, 0.01, 0.1]}\n",
    "\n",
    "gs_lr2_tfidf = GridSearchCV(lr2_tfidf, param_grid=lr_params, cv=5)\n",
    "\n",
    "gs_lr2_tfidf_results = gs_lr2_tfidf.fit(x_train_tfidf2, y=y_train_str)"
   ]
  },
  {
   "cell_type": "code",
   "execution_count": 55,
   "metadata": {},
   "outputs": [
    {
     "data": {
      "text/plain": [
       "0.8189347972647597"
      ]
     },
     "execution_count": 55,
     "metadata": {},
     "output_type": "execute_result"
    }
   ],
   "source": [
    "gs_lr2_tfidf_results.best_score_"
   ]
  },
  {
   "cell_type": "code",
   "execution_count": 56,
   "metadata": {},
   "outputs": [
    {
     "data": {
      "text/plain": [
       "{'C': 10, 'tol': 0.01}"
      ]
     },
     "execution_count": 56,
     "metadata": {},
     "output_type": "execute_result"
    }
   ],
   "source": [
    "gs_lr2_tfidf_results.best_params_"
   ]
  },
  {
   "cell_type": "code",
   "execution_count": 57,
   "metadata": {},
   "outputs": [],
   "source": [
    "## No real improvement here."
   ]
  },
  {
   "cell_type": "code",
   "execution_count": 59,
   "metadata": {},
   "outputs": [
    {
     "name": "stdout",
     "output_type": "stream",
     "text": [
      "Fitting 5 folds for each of 10 candidates, totalling 50 fits\n"
     ]
    },
    {
     "name": "stderr",
     "output_type": "stream",
     "text": [
      "[Parallel(n_jobs=3)]: Using backend LokyBackend with 3 concurrent workers.\n",
      "[Parallel(n_jobs=3)]: Done   2 tasks      | elapsed:   14.0s\n",
      "[Parallel(n_jobs=3)]: Done   7 tasks      | elapsed:   39.2s\n",
      "[Parallel(n_jobs=3)]: Done  12 tasks      | elapsed:   53.1s\n",
      "[Parallel(n_jobs=3)]: Done  19 tasks      | elapsed:  1.4min\n",
      "[Parallel(n_jobs=3)]: Done  26 tasks      | elapsed:  1.7min\n",
      "[Parallel(n_jobs=3)]: Done  35 tasks      | elapsed:  2.2min\n",
      "[Parallel(n_jobs=3)]: Done  44 tasks      | elapsed:  2.8min\n",
      "[Parallel(n_jobs=3)]: Done  50 out of  50 | elapsed:  3.1min finished\n"
     ]
    }
   ],
   "source": [
    "## SVM gridsearch\n",
    "svm3_tfidf = SVC(random_state=98)\n",
    "\n",
    "svm_params = {'C': [0.01, 0.1, 1, 10, 100],\n",
    "             'kernel': ['linear', 'rbf']}\n",
    "\n",
    "gs_svm3_tfidf = GridSearchCV(svm3_tfidf, param_grid=svm_params, cv=5, n_jobs=3, verbose=10)\n",
    "\n",
    "gs_svm3_tfidf_results = gs_svm3_tfidf.fit(x_train_tfidf2, y=y_train_str)"
   ]
  },
  {
   "cell_type": "code",
   "execution_count": 60,
   "metadata": {},
   "outputs": [
    {
     "data": {
      "text/plain": [
       "0.8165270153134933"
      ]
     },
     "execution_count": 60,
     "metadata": {},
     "output_type": "execute_result"
    }
   ],
   "source": [
    "gs_svm3_tfidf_results.best_score_"
   ]
  },
  {
   "cell_type": "code",
   "execution_count": 61,
   "metadata": {},
   "outputs": [],
   "source": [
    "## No real improvement here either"
   ]
  },
  {
   "cell_type": "code",
   "execution_count": 63,
   "metadata": {},
   "outputs": [
    {
     "name": "stderr",
     "output_type": "stream",
     "text": [
      "/usr/local/lib/python3.7/site-packages/sklearn/linear_model/logistic.py:433: FutureWarning: Default solver will be changed to 'lbfgs' in 0.22. Specify a solver to silence this warning.\n",
      "  FutureWarning)\n",
      "/usr/local/lib/python3.7/site-packages/sklearn/linear_model/logistic.py:460: FutureWarning: Default multi_class will be changed to 'auto' in 0.22. Specify the multi_class option to silence this warning.\n",
      "  \"this warning.\", FutureWarning)\n"
     ]
    },
    {
     "name": "stdout",
     "output_type": "stream",
     "text": [
      "Logistic Regression scores: [0.81520693 0.81367357 0.80837747 0.80635838 0.81156627]\n"
     ]
    }
   ],
   "source": [
    "## Logistic regression with L1 penalty\n",
    "\n",
    "lr3_tfidf = LogisticRegression(penalty='l1', random_state=98)\n",
    "\n",
    "lr3_scores_tfidf = cross_val_score(lr3_tfidf, x_train_tfidf2, y_train_str, cv=5)\n",
    "\n",
    "print('Logistic Regression scores:', lr3_scores_tfidf)"
   ]
  },
  {
   "cell_type": "code",
   "execution_count": 64,
   "metadata": {},
   "outputs": [],
   "source": [
    "## Try tweaking the hyperparameters again\n",
    "\n",
    "vectorizer3 = TfidfVectorizer(max_df = 0.9, ## Include most words\n",
    "                            min_df = 2, ## Lower threshold for inclusion further\n",
    "                            stop_words=None, ## Remove stopwords as less important when not whole sentences\n",
    "                            use_idf=True,\n",
    "                             lowercase=True,\n",
    "                            norm=u'l2',\n",
    "                            smooth_idf=True)"
   ]
  },
  {
   "cell_type": "code",
   "execution_count": 65,
   "metadata": {},
   "outputs": [
    {
     "name": "stdout",
     "output_type": "stream",
     "text": [
      "Number of features: 2495\n"
     ]
    }
   ],
   "source": [
    "x_train_tfidf3 = vectorizer3.fit_transform(x_train_str)\n",
    "print('Number of features: {}'.format(x_train_tfidf3.get_shape()[1]))"
   ]
  },
  {
   "cell_type": "code",
   "execution_count": 66,
   "metadata": {},
   "outputs": [],
   "source": [
    "## Around 50% more features again"
   ]
  },
  {
   "cell_type": "code",
   "execution_count": 67,
   "metadata": {},
   "outputs": [
    {
     "name": "stderr",
     "output_type": "stream",
     "text": [
      "/usr/local/lib/python3.7/site-packages/sklearn/linear_model/logistic.py:433: FutureWarning: Default solver will be changed to 'lbfgs' in 0.22. Specify a solver to silence this warning.\n",
      "  FutureWarning)\n",
      "/usr/local/lib/python3.7/site-packages/sklearn/linear_model/logistic.py:460: FutureWarning: Default multi_class will be changed to 'auto' in 0.22. Specify the multi_class option to silence this warning.\n",
      "  \"this warning.\", FutureWarning)\n"
     ]
    },
    {
     "name": "stdout",
     "output_type": "stream",
     "text": [
      "Logistic Regression scores: [0.82290664 0.82089552 0.82571016 0.82177264 0.82361446]\n"
     ]
    }
   ],
   "source": [
    "## Logistic regression\n",
    "\n",
    "lr4_tfidf = LogisticRegression(penalty='l2', random_state=98)\n",
    "\n",
    "lr4_scores_tfidf = cross_val_score(lr4_tfidf, x_train_tfidf3, y_train_str, cv=5)\n",
    "\n",
    "print('Logistic Regression scores:', lr4_scores_tfidf)"
   ]
  },
  {
   "cell_type": "code",
   "execution_count": 68,
   "metadata": {},
   "outputs": [],
   "source": [
    "## Another 1% ish"
   ]
  },
  {
   "cell_type": "code",
   "execution_count": 69,
   "metadata": {},
   "outputs": [
    {
     "name": "stdout",
     "output_type": "stream",
     "text": [
      "SVM scores: [0.82242541 0.82619162 0.82956187 0.82803468 0.81686747]\n"
     ]
    }
   ],
   "source": [
    "## SVM\n",
    "\n",
    "svm4_tfidf = SVC(kernel='linear', random_state=98)\n",
    "\n",
    "svm4_scores_tfidf = cross_val_score(svm4_tfidf, x_train_tfidf3, y_train, cv=5)\n",
    "\n",
    "print('SVM scores:', svm4_scores_tfidf)"
   ]
  },
  {
   "cell_type": "code",
   "execution_count": 70,
   "metadata": {},
   "outputs": [
    {
     "name": "stderr",
     "output_type": "stream",
     "text": [
      "/usr/local/lib/python3.7/site-packages/sklearn/svm/base.py:196: FutureWarning: The default value of gamma will change from 'auto' to 'scale' in version 0.22 to account better for unscaled features. Set gamma explicitly to 'auto' or 'scale' to avoid this warning.\n",
      "  \"avoid this warning.\", FutureWarning)\n"
     ]
    },
    {
     "name": "stdout",
     "output_type": "stream",
     "text": [
      "SVM scores: [0.30028874 0.28839673 0.3033221  0.30105973 0.30698795]\n"
     ]
    }
   ],
   "source": [
    "## SVM rbf kernel\n",
    "\n",
    "svm5_tfidf = SVC(kernel='rbf', random_state=98)\n",
    "\n",
    "svm5_scores_tfidf = cross_val_score(svm5_tfidf, x_train_tfidf3, y_train, cv=5)\n",
    "\n",
    "print('SVM scores:', svm5_scores_tfidf)"
   ]
  },
  {
   "cell_type": "code",
   "execution_count": null,
   "metadata": {},
   "outputs": [],
   "source": [
    "## Wow this is bad. Let's stick with linear kernel."
   ]
  }
 ],
 "metadata": {
  "kernelspec": {
   "display_name": "Python 3",
   "language": "python",
   "name": "python3"
  },
  "language_info": {
   "codemirror_mode": {
    "name": "ipython",
    "version": 3
   },
   "file_extension": ".py",
   "mimetype": "text/x-python",
   "name": "python",
   "nbconvert_exporter": "python",
   "pygments_lexer": "ipython3",
   "version": "3.7.3"
  }
 },
 "nbformat": 4,
 "nbformat_minor": 2
}
